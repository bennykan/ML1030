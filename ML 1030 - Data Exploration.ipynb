{
 "cells": [
  {
   "cell_type": "code",
   "execution_count": 8,
   "metadata": {},
   "outputs": [],
   "source": [
    "import pandas as pd\n",
    "import glob\n",
    "import os"
   ]
  },
  {
   "cell_type": "code",
   "execution_count": 9,
   "metadata": {},
   "outputs": [],
   "source": [
    "path = r'C:\\Users\\shabe\\NFL_Files\\ML1030' # use your path\n",
    "all_files = glob.glob(os.path.join(path, \"*.csv\"))\n",
    "\n",
    "li = []\n",
    "\n",
    "for filename in all_files:\n",
    "    df = pd.read_csv(filename, index_col=None, header=0)\n",
    "    li.append(df)\n",
    "\n",
    "raw_data = pd.concat(li, axis=0, ignore_index=True)"
   ]
  },
  {
   "cell_type": "code",
   "execution_count": 10,
   "metadata": {},
   "outputs": [
    {
     "data": {
      "text/html": [
       "<div>\n",
       "<style scoped>\n",
       "    .dataframe tbody tr th:only-of-type {\n",
       "        vertical-align: middle;\n",
       "    }\n",
       "\n",
       "    .dataframe tbody tr th {\n",
       "        vertical-align: top;\n",
       "    }\n",
       "\n",
       "    .dataframe thead th {\n",
       "        text-align: right;\n",
       "    }\n",
       "</style>\n",
       "<table border=\"1\" class=\"dataframe\">\n",
       "  <thead>\n",
       "    <tr style=\"text-align: right;\">\n",
       "      <th></th>\n",
       "      <th>Date</th>\n",
       "      <th>Book</th>\n",
       "      <th>Away Moneyline</th>\n",
       "      <th>Home Moneyline</th>\n",
       "      <th>Away Pointspread points</th>\n",
       "      <th>Away Pointspread odds</th>\n",
       "      <th>Home Pointspread points</th>\n",
       "      <th>Home Pointspread odds</th>\n",
       "      <th>Total points</th>\n",
       "      <th>Over odds</th>\n",
       "      <th>Under odds</th>\n",
       "    </tr>\n",
       "  </thead>\n",
       "  <tbody>\n",
       "    <tr>\n",
       "      <th>0</th>\n",
       "      <td>Mon Sep 17 2018 00:43:34 GMT+0000 (UTC)</td>\n",
       "      <td>BravoBook</td>\n",
       "      <td>NaN</td>\n",
       "      <td>NaN</td>\n",
       "      <td>6</td>\n",
       "      <td>-110.0</td>\n",
       "      <td>-6</td>\n",
       "      <td>-110.0</td>\n",
       "      <td>54.5</td>\n",
       "      <td>-115.0</td>\n",
       "      <td>-105.0</td>\n",
       "    </tr>\n",
       "    <tr>\n",
       "      <th>1</th>\n",
       "      <td>Mon Sep 17 2018 01:43:35 GMT+0000 (UTC)</td>\n",
       "      <td>BravoBook</td>\n",
       "      <td>NaN</td>\n",
       "      <td>NaN</td>\n",
       "      <td>6</td>\n",
       "      <td>-110.0</td>\n",
       "      <td>-6</td>\n",
       "      <td>-110.0</td>\n",
       "      <td>54.5</td>\n",
       "      <td>-115.0</td>\n",
       "      <td>-105.0</td>\n",
       "    </tr>\n",
       "    <tr>\n",
       "      <th>2</th>\n",
       "      <td>Mon Sep 17 2018 02:43:34 GMT+0000 (UTC)</td>\n",
       "      <td>BravoBook</td>\n",
       "      <td>NaN</td>\n",
       "      <td>NaN</td>\n",
       "      <td>6</td>\n",
       "      <td>-110.0</td>\n",
       "      <td>-6</td>\n",
       "      <td>-110.0</td>\n",
       "      <td>54.5</td>\n",
       "      <td>-115.0</td>\n",
       "      <td>-105.0</td>\n",
       "    </tr>\n",
       "    <tr>\n",
       "      <th>3</th>\n",
       "      <td>Mon Sep 17 2018 03:43:35 GMT+0000 (UTC)</td>\n",
       "      <td>BravoBook</td>\n",
       "      <td>NaN</td>\n",
       "      <td>NaN</td>\n",
       "      <td>6</td>\n",
       "      <td>-110.0</td>\n",
       "      <td>-6</td>\n",
       "      <td>-110.0</td>\n",
       "      <td>54.5</td>\n",
       "      <td>-115.0</td>\n",
       "      <td>-105.0</td>\n",
       "    </tr>\n",
       "    <tr>\n",
       "      <th>4</th>\n",
       "      <td>Mon Sep 17 2018 04:43:35 GMT+0000 (UTC)</td>\n",
       "      <td>BravoBook</td>\n",
       "      <td>NaN</td>\n",
       "      <td>NaN</td>\n",
       "      <td>6</td>\n",
       "      <td>-110.0</td>\n",
       "      <td>-6</td>\n",
       "      <td>-110.0</td>\n",
       "      <td>54.5</td>\n",
       "      <td>-115.0</td>\n",
       "      <td>-105.0</td>\n",
       "    </tr>\n",
       "  </tbody>\n",
       "</table>\n",
       "</div>"
      ],
      "text/plain": [
       "                                      Date       Book Away Moneyline  \\\n",
       "0  Mon Sep 17 2018 00:43:34 GMT+0000 (UTC)  BravoBook            NaN   \n",
       "1  Mon Sep 17 2018 01:43:35 GMT+0000 (UTC)  BravoBook            NaN   \n",
       "2  Mon Sep 17 2018 02:43:34 GMT+0000 (UTC)  BravoBook            NaN   \n",
       "3  Mon Sep 17 2018 03:43:35 GMT+0000 (UTC)  BravoBook            NaN   \n",
       "4  Mon Sep 17 2018 04:43:35 GMT+0000 (UTC)  BravoBook            NaN   \n",
       "\n",
       "  Home Moneyline Away Pointspread points  Away Pointspread odds  \\\n",
       "0            NaN                       6                 -110.0   \n",
       "1            NaN                       6                 -110.0   \n",
       "2            NaN                       6                 -110.0   \n",
       "3            NaN                       6                 -110.0   \n",
       "4            NaN                       6                 -110.0   \n",
       "\n",
       "  Home Pointspread points  Home Pointspread odds  Total points  Over odds  \\\n",
       "0                      -6                 -110.0          54.5     -115.0   \n",
       "1                      -6                 -110.0          54.5     -115.0   \n",
       "2                      -6                 -110.0          54.5     -115.0   \n",
       "3                      -6                 -110.0          54.5     -115.0   \n",
       "4                      -6                 -110.0          54.5     -115.0   \n",
       "\n",
       "   Under odds  \n",
       "0      -105.0  \n",
       "1      -105.0  \n",
       "2      -105.0  \n",
       "3      -105.0  \n",
       "4      -105.0  "
      ]
     },
     "execution_count": 10,
     "metadata": {},
     "output_type": "execute_result"
    }
   ],
   "source": [
    "raw_data.head()"
   ]
  },
  {
   "cell_type": "code",
   "execution_count": 14,
   "metadata": {},
   "outputs": [
    {
     "ename": "TypeError",
     "evalue": "strptime() argument 1 must be str, not Series",
     "output_type": "error",
     "traceback": [
      "\u001b[1;31m---------------------------------------------------------------------------\u001b[0m",
      "\u001b[1;31mTypeError\u001b[0m                                 Traceback (most recent call last)",
      "\u001b[1;32m<ipython-input-14-d71ac5f1e3a6>\u001b[0m in \u001b[0;36m<module>\u001b[1;34m\u001b[0m\n\u001b[0;32m      1\u001b[0m \u001b[1;32mimport\u001b[0m \u001b[0mdatetime\u001b[0m\u001b[1;33m\u001b[0m\u001b[1;33m\u001b[0m\u001b[0m\n\u001b[1;32m----> 2\u001b[1;33m \u001b[0mdatee\u001b[0m \u001b[1;33m=\u001b[0m \u001b[0mdatetime\u001b[0m\u001b[1;33m.\u001b[0m\u001b[0mdatetime\u001b[0m\u001b[1;33m.\u001b[0m\u001b[0mstrptime\u001b[0m\u001b[1;33m(\u001b[0m\u001b[0mraw_data\u001b[0m\u001b[1;33m.\u001b[0m\u001b[0mDate\u001b[0m\u001b[1;33m,\u001b[0m \u001b[1;34m\"%Y-%m-%d\"\u001b[0m\u001b[1;33m)\u001b[0m\u001b[1;33m\u001b[0m\u001b[1;33m\u001b[0m\u001b[0m\n\u001b[0m",
      "\u001b[1;31mTypeError\u001b[0m: strptime() argument 1 must be str, not Series"
     ]
    }
   ],
   "source": [
    "import datetime\n",
    "datee = datetime.datetime.strptime(raw_data.Date, \"%Y-%m-%d\")"
   ]
  },
  {
   "cell_type": "code",
   "execution_count": null,
   "metadata": {},
   "outputs": [],
   "source": []
  }
 ],
 "metadata": {
  "kernelspec": {
   "display_name": "Python 3",
   "language": "python",
   "name": "python3"
  },
  "language_info": {
   "codemirror_mode": {
    "name": "ipython",
    "version": 3
   },
   "file_extension": ".py",
   "mimetype": "text/x-python",
   "name": "python",
   "nbconvert_exporter": "python",
   "pygments_lexer": "ipython3",
   "version": "3.7.2"
  }
 },
 "nbformat": 4,
 "nbformat_minor": 2
}
