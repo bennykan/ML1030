{
 "cells": [
  {
   "cell_type": "code",
   "execution_count": 2,
   "metadata": {},
   "outputs": [],
   "source": [
    "import pandas as pd\n",
    "import numpy as np\n",
    "from datetime import datetime\n",
    "from pytz import timezone\n",
    "import pytz\n",
    "import glob\n",
    "import os\n",
    "import re"
   ]
  },
  {
   "cell_type": "markdown",
   "metadata": {},
   "source": [
    "# Prepare the Dataset for Unsupervised Learning"
   ]
  },
  {
   "cell_type": "code",
   "execution_count": 3,
   "metadata": {},
   "outputs": [
    {
     "name": "stderr",
     "output_type": "stream",
     "text": [
      "C:\\Users\\benny\\Anaconda3\\lib\\site-packages\\IPython\\core\\interactiveshell.py:3020: DtypeWarning: Columns (5,6,7,9,25) have mixed types. Specify dtype option on import or set low_memory=False.\n",
      "  interactivity=interactivity, compiler=compiler, result=result)\n"
     ]
    }
   ],
   "source": [
    "nfl_games_juice_file = r'C:\\Users\\benny\\OneDrive\\Machine Learning\\ML1030\\Final Project\\Final Project\\sportsbook_data_ALL_with_Juice.csv'\n",
    "nfl_games_juice_df = pd.read_csv(nfl_games_juice_file)"
   ]
  },
  {
   "cell_type": "markdown",
   "metadata": {},
   "source": [
    "## Create a Time Label in Hours from th"
   ]
  },
  {
   "cell_type": "code",
   "execution_count": 29,
   "metadata": {},
   "outputs": [
    {
     "name": "stdout",
     "output_type": "stream",
     "text": [
      "0         2018-09-06 20:20:00\n",
      "1         2018-09-06 20:20:00\n",
      "2         2018-09-06 20:20:00\n",
      "3         2018-09-06 20:20:00\n",
      "4         2018-09-06 20:20:00\n",
      "5         2018-09-06 20:20:00\n",
      "6         2018-09-06 20:20:00\n",
      "7         2018-09-06 20:20:00\n",
      "8         2018-09-06 20:20:00\n",
      "9         2018-09-06 20:20:00\n",
      "10        2018-09-06 20:20:00\n",
      "11        2018-09-06 20:20:00\n",
      "12        2018-09-06 20:20:00\n",
      "13        2018-09-06 20:20:00\n",
      "14        2018-09-06 20:20:00\n",
      "15        2018-09-06 20:20:00\n",
      "16        2018-09-06 20:20:00\n",
      "17        2018-09-06 20:20:00\n",
      "18        2018-09-06 20:20:00\n",
      "19        2018-09-06 20:20:00\n",
      "20        2018-09-06 20:20:00\n",
      "21        2018-09-06 20:20:00\n",
      "22        2018-09-06 20:20:00\n",
      "23        2018-09-06 20:20:00\n",
      "24        2018-09-06 20:20:00\n",
      "25        2018-09-06 20:20:00\n",
      "26        2018-09-06 20:20:00\n",
      "27        2018-09-06 20:20:00\n",
      "28        2018-09-06 20:20:00\n",
      "29        2018-09-06 20:20:00\n",
      "                 ...         \n",
      "418678    2018-12-30 16:25:00\n",
      "418679    2018-12-30 16:25:00\n",
      "418680    2018-12-30 16:25:00\n",
      "418681    2018-12-30 16:25:00\n",
      "418682    2018-12-30 16:25:00\n",
      "418683    2018-12-30 16:25:00\n",
      "418684    2018-12-30 16:25:00\n",
      "418685    2018-12-30 16:25:00\n",
      "418686    2018-12-30 16:25:00\n",
      "418687    2018-12-30 16:25:00\n",
      "418688    2018-12-30 16:25:00\n",
      "418689    2018-12-30 16:25:00\n",
      "418690    2018-12-30 16:25:00\n",
      "418691    2018-12-30 16:25:00\n",
      "418692    2018-12-30 16:25:00\n",
      "418693    2018-12-30 16:25:00\n",
      "418694    2018-12-30 16:25:00\n",
      "418695    2018-12-30 16:25:00\n",
      "418696    2018-12-30 16:25:00\n",
      "418697    2018-12-30 16:25:00\n",
      "418698    2018-12-30 16:25:00\n",
      "418699    2018-12-30 16:25:00\n",
      "418700    2018-12-30 16:25:00\n",
      "418701    2018-12-30 16:25:00\n",
      "418702    2018-12-30 16:25:00\n",
      "418703    2018-12-30 16:25:00\n",
      "418704    2018-12-30 16:25:00\n",
      "418705    2018-12-30 16:25:00\n",
      "418706    2018-12-30 16:25:00\n",
      "418707    2018-12-30 16:25:00\n",
      "Name: Game Time, Length: 418708, dtype: object\n",
      "0         2018-09-02 11:37:47\n",
      "1         2018-08-30 16:54:20\n",
      "2         2018-08-30 17:54:19\n",
      "3         2018-08-30 18:54:20\n",
      "4         2018-08-30 19:54:20\n",
      "5         2018-08-30 20:54:20\n",
      "6         2018-08-31 09:54:19\n",
      "7         2018-08-31 10:54:19\n",
      "8         2018-08-31 11:54:20\n",
      "9         2018-08-31 12:54:21\n",
      "10        2018-08-31 13:54:20\n",
      "11        2018-08-31 14:54:20\n",
      "12        2018-08-31 15:54:19\n",
      "13        2018-08-31 16:54:20\n",
      "14        2018-08-31 17:54:20\n",
      "15        2018-08-31 18:54:20\n",
      "16        2018-08-31 19:54:21\n",
      "17        2018-08-31 20:54:20\n",
      "18        2018-08-31 21:54:20\n",
      "19        2018-08-31 22:54:20\n",
      "20        2018-08-31 23:54:19\n",
      "21        2018-09-01 00:54:19\n",
      "22        2018-09-01 01:54:19\n",
      "23        2018-09-01 02:54:19\n",
      "24        2018-09-01 03:54:19\n",
      "25        2018-09-01 04:54:19\n",
      "26        2018-09-01 05:54:19\n",
      "27        2018-09-01 06:54:19\n",
      "28        2018-09-01 07:54:19\n",
      "29        2018-09-01 08:54:19\n",
      "                 ...         \n",
      "418678    2018-12-29 11:25:45\n",
      "418679    2018-12-29 12:26:17\n",
      "418680    2018-12-29 13:25:30\n",
      "418681    2018-12-29 14:26:03\n",
      "418682    2018-12-29 15:25:36\n",
      "418683    2018-12-29 16:25:43\n",
      "418684    2018-12-29 17:25:59\n",
      "418685    2018-12-29 18:25:39\n",
      "418686    2018-12-29 19:25:44\n",
      "418687    2018-12-29 20:26:05\n",
      "418688    2018-12-29 21:25:49\n",
      "418689    2018-12-29 22:25:54\n",
      "418690    2018-12-29 23:26:06\n",
      "418691    2018-12-30 00:25:43\n",
      "418692    2018-12-30 01:25:34\n",
      "418693    2018-12-30 02:25:09\n",
      "418694    2018-12-30 03:25:44\n",
      "418695    2018-12-30 04:26:28\n",
      "418696    2018-12-30 05:25:50\n",
      "418697    2018-12-30 06:25:18\n",
      "418698    2018-12-30 07:25:46\n",
      "418699    2018-12-30 08:26:01\n",
      "418700    2018-12-30 09:25:44\n",
      "418701    2018-12-30 10:26:16\n",
      "418702    2018-12-30 11:26:05\n",
      "418703    2018-12-30 12:25:41\n",
      "418704    2018-12-30 13:24:41\n",
      "418705    2018-12-30 14:24:49\n",
      "418706    2018-12-30 15:24:51\n",
      "418707    2018-12-30 16:24:56\n",
      "Name: timestamp_est, Length: 418708, dtype: object\n"
     ]
    }
   ],
   "source": [
    "game_time_str = nfl_games_juice_df.loc[:,'Game Time']\n",
    "game_time_str = game_time_str.str.slice(0,19)\n",
    "timestamp_str = nfl_games_juice_df.loc[:,'timestamp_est']\n",
    "timestamp_str = timestamp_str.str.slice(0,19)\n",
    "\n",
    "print(game_time_str)\n",
    "print(timestamp_str)\n"
   ]
  },
  {
   "cell_type": "code",
   "execution_count": 32,
   "metadata": {},
   "outputs": [
    {
     "name": "stdout",
     "output_type": "stream",
     "text": [
      "0        2018-09-06 20:20:00\n",
      "1        2018-09-06 20:20:00\n",
      "2        2018-09-06 20:20:00\n",
      "3        2018-09-06 20:20:00\n",
      "4        2018-09-06 20:20:00\n",
      "5        2018-09-06 20:20:00\n",
      "6        2018-09-06 20:20:00\n",
      "7        2018-09-06 20:20:00\n",
      "8        2018-09-06 20:20:00\n",
      "9        2018-09-06 20:20:00\n",
      "10       2018-09-06 20:20:00\n",
      "11       2018-09-06 20:20:00\n",
      "12       2018-09-06 20:20:00\n",
      "13       2018-09-06 20:20:00\n",
      "14       2018-09-06 20:20:00\n",
      "15       2018-09-06 20:20:00\n",
      "16       2018-09-06 20:20:00\n",
      "17       2018-09-06 20:20:00\n",
      "18       2018-09-06 20:20:00\n",
      "19       2018-09-06 20:20:00\n",
      "20       2018-09-06 20:20:00\n",
      "21       2018-09-06 20:20:00\n",
      "22       2018-09-06 20:20:00\n",
      "23       2018-09-06 20:20:00\n",
      "24       2018-09-06 20:20:00\n",
      "25       2018-09-06 20:20:00\n",
      "26       2018-09-06 20:20:00\n",
      "27       2018-09-06 20:20:00\n",
      "28       2018-09-06 20:20:00\n",
      "29       2018-09-06 20:20:00\n",
      "                 ...        \n",
      "418678   2018-12-30 16:25:00\n",
      "418679   2018-12-30 16:25:00\n",
      "418680   2018-12-30 16:25:00\n",
      "418681   2018-12-30 16:25:00\n",
      "418682   2018-12-30 16:25:00\n",
      "418683   2018-12-30 16:25:00\n",
      "418684   2018-12-30 16:25:00\n",
      "418685   2018-12-30 16:25:00\n",
      "418686   2018-12-30 16:25:00\n",
      "418687   2018-12-30 16:25:00\n",
      "418688   2018-12-30 16:25:00\n",
      "418689   2018-12-30 16:25:00\n",
      "418690   2018-12-30 16:25:00\n",
      "418691   2018-12-30 16:25:00\n",
      "418692   2018-12-30 16:25:00\n",
      "418693   2018-12-30 16:25:00\n",
      "418694   2018-12-30 16:25:00\n",
      "418695   2018-12-30 16:25:00\n",
      "418696   2018-12-30 16:25:00\n",
      "418697   2018-12-30 16:25:00\n",
      "418698   2018-12-30 16:25:00\n",
      "418699   2018-12-30 16:25:00\n",
      "418700   2018-12-30 16:25:00\n",
      "418701   2018-12-30 16:25:00\n",
      "418702   2018-12-30 16:25:00\n",
      "418703   2018-12-30 16:25:00\n",
      "418704   2018-12-30 16:25:00\n",
      "418705   2018-12-30 16:25:00\n",
      "418706   2018-12-30 16:25:00\n",
      "418707   2018-12-30 16:25:00\n",
      "Name: Game Time, Length: 418708, dtype: datetime64[ns]\n",
      "0        2018-09-02 11:37:47\n",
      "1        2018-08-30 16:54:20\n",
      "2        2018-08-30 17:54:19\n",
      "3        2018-08-30 18:54:20\n",
      "4        2018-08-30 19:54:20\n",
      "5        2018-08-30 20:54:20\n",
      "6        2018-08-31 09:54:19\n",
      "7        2018-08-31 10:54:19\n",
      "8        2018-08-31 11:54:20\n",
      "9        2018-08-31 12:54:21\n",
      "10       2018-08-31 13:54:20\n",
      "11       2018-08-31 14:54:20\n",
      "12       2018-08-31 15:54:19\n",
      "13       2018-08-31 16:54:20\n",
      "14       2018-08-31 17:54:20\n",
      "15       2018-08-31 18:54:20\n",
      "16       2018-08-31 19:54:21\n",
      "17       2018-08-31 20:54:20\n",
      "18       2018-08-31 21:54:20\n",
      "19       2018-08-31 22:54:20\n",
      "20       2018-08-31 23:54:19\n",
      "21       2018-09-01 00:54:19\n",
      "22       2018-09-01 01:54:19\n",
      "23       2018-09-01 02:54:19\n",
      "24       2018-09-01 03:54:19\n",
      "25       2018-09-01 04:54:19\n",
      "26       2018-09-01 05:54:19\n",
      "27       2018-09-01 06:54:19\n",
      "28       2018-09-01 07:54:19\n",
      "29       2018-09-01 08:54:19\n",
      "                 ...        \n",
      "418678   2018-12-29 11:25:45\n",
      "418679   2018-12-29 12:26:17\n",
      "418680   2018-12-29 13:25:30\n",
      "418681   2018-12-29 14:26:03\n",
      "418682   2018-12-29 15:25:36\n",
      "418683   2018-12-29 16:25:43\n",
      "418684   2018-12-29 17:25:59\n",
      "418685   2018-12-29 18:25:39\n",
      "418686   2018-12-29 19:25:44\n",
      "418687   2018-12-29 20:26:05\n",
      "418688   2018-12-29 21:25:49\n",
      "418689   2018-12-29 22:25:54\n",
      "418690   2018-12-29 23:26:06\n",
      "418691   2018-12-30 00:25:43\n",
      "418692   2018-12-30 01:25:34\n",
      "418693   2018-12-30 02:25:09\n",
      "418694   2018-12-30 03:25:44\n",
      "418695   2018-12-30 04:26:28\n",
      "418696   2018-12-30 05:25:50\n",
      "418697   2018-12-30 06:25:18\n",
      "418698   2018-12-30 07:25:46\n",
      "418699   2018-12-30 08:26:01\n",
      "418700   2018-12-30 09:25:44\n",
      "418701   2018-12-30 10:26:16\n",
      "418702   2018-12-30 11:26:05\n",
      "418703   2018-12-30 12:25:41\n",
      "418704   2018-12-30 13:24:41\n",
      "418705   2018-12-30 14:24:49\n",
      "418706   2018-12-30 15:24:51\n",
      "418707   2018-12-30 16:24:56\n",
      "Name: timestamp_est, Length: 418708, dtype: datetime64[ns]\n"
     ]
    }
   ],
   "source": [
    "game_time_date = pd.to_datetime(game_time_str, format='%Y-%m-%d %H:%M:%S')\n",
    "timestamp_date = pd.to_datetime(timestamp_str, format='%Y-%m-%d %H:%M:%S')\n",
    "print(game_time_date)\n",
    "print(timestamp_date)"
   ]
  },
  {
   "cell_type": "code",
   "execution_count": 38,
   "metadata": {},
   "outputs": [
    {
     "name": "stdout",
     "output_type": "stream",
     "text": [
      "0         104.0\n",
      "1         171.0\n",
      "2         170.0\n",
      "3         169.0\n",
      "4         168.0\n",
      "5         167.0\n",
      "6         154.0\n",
      "7         153.0\n",
      "8         152.0\n",
      "9         151.0\n",
      "10        150.0\n",
      "11        149.0\n",
      "12        148.0\n",
      "13        147.0\n",
      "14        146.0\n",
      "15        145.0\n",
      "16        144.0\n",
      "17        143.0\n",
      "18        142.0\n",
      "19        141.0\n",
      "20        140.0\n",
      "21        139.0\n",
      "22        138.0\n",
      "23        137.0\n",
      "24        136.0\n",
      "25        135.0\n",
      "26        134.0\n",
      "27        133.0\n",
      "28        132.0\n",
      "29        131.0\n",
      "          ...  \n",
      "418678     28.0\n",
      "418679     27.0\n",
      "418680     26.0\n",
      "418681     25.0\n",
      "418682     24.0\n",
      "418683     23.0\n",
      "418684     22.0\n",
      "418685     21.0\n",
      "418686     20.0\n",
      "418687     19.0\n",
      "418688     18.0\n",
      "418689     17.0\n",
      "418690     16.0\n",
      "418691     15.0\n",
      "418692     14.0\n",
      "418693     13.0\n",
      "418694     12.0\n",
      "418695     11.0\n",
      "418696     10.0\n",
      "418697      9.0\n",
      "418698      8.0\n",
      "418699      7.0\n",
      "418700      6.0\n",
      "418701      5.0\n",
      "418702      4.0\n",
      "418703      3.0\n",
      "418704      3.0\n",
      "418705      2.0\n",
      "418706      1.0\n",
      "418707      0.0\n",
      "Length: 418708, dtype: float64\n"
     ]
    }
   ],
   "source": [
    "diff = (game_time_date - timestamp_date).astype('timedelta64[h]')\n",
    "print(diff)\n",
    "nfl_games_juice_df['Hours To Game'] = diff"
   ]
  },
  {
   "cell_type": "code",
   "execution_count": 47,
   "metadata": {},
   "outputs": [
    {
     "name": "stdout",
     "output_type": "stream",
     "text": [
      "        Book Away Moneyline Home Moneyline Away Pointspread points  \\\n",
      "0   alfabook            115           -135                     2.5   \n",
      "1  bravobook            NaN            NaN                       3   \n",
      "2  bravobook            NaN            NaN                       3   \n",
      "3  bravobook            NaN            NaN                       3   \n",
      "4  bravobook            NaN            NaN                       3   \n",
      "\n",
      "   Away Pointspread odds Home Pointspread points  Home Pointspread odds  \\\n",
      "0                 -110.0                    -2.5                 -110.0   \n",
      "1                 -119.0                      -3                 -101.0   \n",
      "2                 -110.0                      -3                 -110.0   \n",
      "3                 -110.0                      -3                 -110.0   \n",
      "4                 -110.0                      -3                 -110.0   \n",
      "\n",
      "   Total points  Over odds  Under odds      ...       YdsL TOL  \\\n",
      "0          45.5     -108.0      -112.0      ...        299   1   \n",
      "1          45.5     -105.0      -115.0      ...        299   1   \n",
      "2          45.5     -105.0      -115.0      ...        299   1   \n",
      "3          45.5     -105.0      -115.0      ...        299   1   \n",
      "4          45.5     -105.0      -115.0      ...        299   1   \n",
      "\n",
      "                Home_y           Away_y                  Game Time Pre-Game  \\\n",
      "0  Philadelphia Eagles  Atlanta Falcons  2018-09-06 20:20:00-04:00     True   \n",
      "1  Philadelphia Eagles  Atlanta Falcons  2018-09-06 20:20:00-04:00     True   \n",
      "2  Philadelphia Eagles  Atlanta Falcons  2018-09-06 20:20:00-04:00     True   \n",
      "3  Philadelphia Eagles  Atlanta Falcons  2018-09-06 20:20:00-04:00     True   \n",
      "4  Philadelphia Eagles  Atlanta Falcons  2018-09-06 20:20:00-04:00     True   \n",
      "\n",
      "  Juice Moneyline  Juice Pointspread  Juice Total  Hours To Game  \n",
      "0        3.807711           4.545455     4.537582          104.0  \n",
      "1             NaN           4.385508     4.496208          171.0  \n",
      "2             NaN           4.545455     4.496208          170.0  \n",
      "3             NaN           4.545455     4.496208          169.0  \n",
      "4             NaN           4.545455     4.496208          168.0  \n",
      "\n",
      "[5 rows x 31 columns]\n"
     ]
    }
   ],
   "source": [
    "nfl_games_juice_hours_df = nfl_games_juice_df[['Book','Away Moneyline','Home Moneyline','Away Pointspread points','Away Pointspread odds','Home Pointspread points','Home Pointspread odds','Total points','Over odds','Under odds','Away_x','Home_x','Game','Game Number','timestamp_est','Winner/tie','Loser/tie','PtsW','PtsL','YdsW','TOW','YdsL','TOL','Home_y','Away_y','Game Time','Pre-Game','Juice Moneyline','Juice Pointspread','Juice Total','Hours To Game']]\n",
    "print(nfl_games_juice_hours_df.head())"
   ]
  },
  {
   "cell_type": "code",
   "execution_count": 48,
   "metadata": {},
   "outputs": [],
   "source": [
    "export_path = r'C:\\Users\\benny\\OneDrive\\Machine Learning\\ML1030\\Final Project\\Final Project'\n",
    "nfl_games_juice_hours_df.to_csv(export_path+\"\\\\sportsbook_data_ALL_with_Juice_Hours.csv\")"
   ]
  },
  {
   "cell_type": "code",
   "execution_count": 71,
   "metadata": {},
   "outputs": [],
   "source": [
    "nfl_games_file = r'C:\\Users\\benny\\OneDrive\\Machine Learning\\ML1030\\Final Project\\Final Project\\sportsbook_data_ALL_with_Juice_Hours.csv'\n",
    "nfl_games_df = pd.read_csv(nfl_games_file)"
   ]
  },
  {
   "cell_type": "code",
   "execution_count": 72,
   "metadata": {},
   "outputs": [
    {
     "name": "stdout",
     "output_type": "stream",
     "text": [
      "   Unnamed: 0       Book Away Moneyline Home Moneyline  \\\n",
      "0           0   alfabook            115           -135   \n",
      "1           1  bravobook            NaN            NaN   \n",
      "2           2  bravobook            NaN            NaN   \n",
      "3           3  bravobook            NaN            NaN   \n",
      "4           4  bravobook            NaN            NaN   \n",
      "\n",
      "  Away Pointspread points  Away Pointspread odds Home Pointspread points  \\\n",
      "0                     2.5                 -110.0                    -2.5   \n",
      "1                       3                 -119.0                      -3   \n",
      "2                       3                 -110.0                      -3   \n",
      "3                       3                 -110.0                      -3   \n",
      "4                       3                 -110.0                      -3   \n",
      "\n",
      "   Home Pointspread odds  Total points  Over odds      ...       TOL  \\\n",
      "0                 -110.0          45.5     -108.0      ...         1   \n",
      "1                 -101.0          45.5     -105.0      ...         1   \n",
      "2                 -110.0          45.5     -105.0      ...         1   \n",
      "3                 -110.0          45.5     -105.0      ...         1   \n",
      "4                 -110.0          45.5     -105.0      ...         1   \n",
      "\n",
      "                Home_y           Away_y                  Game Time  Pre-Game  \\\n",
      "0  Philadelphia Eagles  Atlanta Falcons  2018-09-06 20:20:00-04:00      True   \n",
      "1  Philadelphia Eagles  Atlanta Falcons  2018-09-06 20:20:00-04:00      True   \n",
      "2  Philadelphia Eagles  Atlanta Falcons  2018-09-06 20:20:00-04:00      True   \n",
      "3  Philadelphia Eagles  Atlanta Falcons  2018-09-06 20:20:00-04:00      True   \n",
      "4  Philadelphia Eagles  Atlanta Falcons  2018-09-06 20:20:00-04:00      True   \n",
      "\n",
      "  Juice Moneyline Juice Pointspread Juice Total  Hours To Game  Book Encoded  \n",
      "0        3.807711          4.545455    4.537582          104.0             0  \n",
      "1             NaN          4.385508    4.496208          171.0             1  \n",
      "2             NaN          4.545455    4.496208          170.0             1  \n",
      "3             NaN          4.545455    4.496208          169.0             1  \n",
      "4             NaN          4.545455    4.496208          168.0             1  \n",
      "\n",
      "[5 rows x 33 columns]\n"
     ]
    }
   ],
   "source": [
    "nfl_games_df[\"Book\"] = nfl_games_df[\"Book\"].astype('category')\n",
    "nfl_games_df[\"Book Encoded\"] = nfl_games_df[\"Book\"].cat.codes\n",
    "nfl_games_df.reset_index(drop=True, inplace=True)\n",
    "print(nfl_games_df.head())"
   ]
  },
  {
   "cell_type": "markdown",
   "metadata": {},
   "source": [
    "# Create Time Series with 120 Hours of Odds into the Game"
   ]
  },
  {
   "cell_type": "code",
   "execution_count": 76,
   "metadata": {},
   "outputs": [
    {
     "name": "stdout",
     "output_type": "stream",
     "text": [
      "(418708, 33)\n",
      "(192815, 33)\n"
     ]
    }
   ],
   "source": [
    "nfl_games_120_df = nfl_games_df[(nfl_games_df['Hours To Game']<120) & (nfl_games_df['Hours To Game']>=0)]\n",
    "print(nfl_games_df.shape)\n",
    "print(nfl_games_120_df.shape)"
   ]
  },
  {
   "cell_type": "code",
   "execution_count": 77,
   "metadata": {},
   "outputs": [
    {
     "name": "stdout",
     "output_type": "stream",
     "text": [
      "(192815, 10)\n"
     ]
    }
   ],
   "source": [
    "nfl_games_120_df = nfl_games_120_df[['Book','Away Moneyline','Home Moneyline','Away Pointspread odds','Home Pointspread odds','Over odds','Under odds','Game Number','Hours To Game','Book Encoded']]\n",
    "#nfl_games_24_df = nfl_games_24_df[['Book','Away Moneyline','Home Moneyline','Away Pointspread odds','Home Pointspread odds','Over odds','Under odds','Game Number','Hours To Game']]\n",
    "print(nfl_games_120_df.shape)"
   ]
  },
  {
   "cell_type": "code",
   "execution_count": 78,
   "metadata": {},
   "outputs": [
    {
     "name": "stdout",
     "output_type": "stream",
     "text": [
      "[0, 1, 2, 3, 4, 5, 6, 7, 8, 9, 10, 11]\n",
      "[1, 2, 3, 4, 5, 6, 7, 8, 9, 10, 11, 12, 13, 14, 15, 16, 17, 18, 19, 20, 21, 22, 23, 24, 25, 26, 27, 28, 29, 30, 31, 32, 33, 34, 35, 36, 37, 38, 39, 40, 41, 42, 43, 44, 45, 46, 47, 48, 49, 50, 51, 52, 53, 54, 55, 56, 57, 58, 59, 60, 61, 62, 63, 64, 65, 66, 67, 68, 69, 70, 71, 72, 73, 74, 75, 76, 77, 78, 79, 80, 81, 82, 83, 84, 85, 86, 87, 88, 89, 90, 91, 92, 93, 94, 95, 96, 97, 98, 99, 100, 101, 102, 103, 104, 105, 106, 107, 108, 109, 110, 111, 112, 113, 114, 115, 116, 117, 118, 119, 120, 121, 122, 123, 124, 125, 126, 127, 128, 129, 130, 131, 132, 133, 134, 135, 136, 137, 138, 139, 140, 141, 142, 143, 144, 145, 146, 147, 148, 149, 150, 151, 152, 153, 154, 155, 156, 157, 158, 159, 160, 161, 162, 163, 164, 165, 166, 167, 168, 169, 170, 171, 172, 173, 174, 175, 176]\n",
      "[119, 118, 117, 116, 115, 114, 113, 112, 111, 110, 109, 108, 107, 106, 105, 104, 103, 102, 101, 100, 99, 98, 97, 96, 95, 94, 93, 92, 91, 90, 89, 88, 87, 86, 85, 84, 83, 82, 81, 80, 79, 78, 77, 76, 75, 74, 73, 72, 71, 70, 69, 68, 67, 66, 65, 64, 63, 62, 61, 60, 59, 58, 57, 56, 55, 54, 53, 52, 51, 50, 49, 48, 47, 46, 45, 44, 43, 42, 41, 40, 39, 38, 37, 36, 35, 34, 33, 32, 31, 30, 29, 28, 27, 26, 25, 24, 23, 22, 21, 20, 19, 18, 17, 16, 15, 14, 13, 12, 11, 10, 9, 8, 7, 6, 5, 4, 3, 2, 1, 0]\n",
      "Book                     category\n",
      "Away Moneyline             object\n",
      "Home Moneyline             object\n",
      "Away Pointspread odds     float64\n",
      "Home Pointspread odds     float64\n",
      "Over odds                 float64\n",
      "Under odds                float64\n",
      "Game Number                 int64\n",
      "Hours To Game             float64\n",
      "Book Encoded                 int8\n",
      "dtype: object\n"
     ]
    }
   ],
   "source": [
    "sportsbook_ids = [s for s in range(0, 12)]\n",
    "game_ids = [i for i in range(1, 177)]\n",
    "hours_ids = [z for z in range(119,-1,-1)]\n",
    "print(sportsbook_ids)\n",
    "print(game_ids)\n",
    "print(hours_ids)\n",
    "print(nfl_games_120_df.dtypes)"
   ]
  },
  {
   "cell_type": "code",
   "execution_count": null,
   "metadata": {},
   "outputs": [],
   "source": [
    "away_moneyline_time_series = []\n",
    "for ga in game_ids:\n",
    "    for sp in sportsbook_ids: \n",
    "        odds_series = []\n",
    "        for hr in hours_ids:        \n",
    "            odds = nfl_games_120_df[(nfl_games_120_df['Game Number']==ga) & (nfl_games_120_df['Hours To Game']==hr) & (nfl_games_120_df['Book Encoded']==sp)]['Away Moneyline']\n",
    "            try:\n",
    "                odds = float(odds)\n",
    "                #print(odds)\n",
    "            except:\n",
    "                odds = float('nan')\n",
    "            odds_series.append(odds)\n",
    "        if nfl_games_120_df[(nfl_games_120_df['Game Number']==ga) & (nfl_games_120_df['Book Encoded']==sp)].empty:\n",
    "            #print('its empty!')\n",
    "            continue\n",
    "        else:\n",
    "            odds_series.append(ga)\n",
    "            odds_series.append(sp)\n",
    "            away_moneyline_time_series.append(odds_series)\n"
   ]
  },
  {
   "cell_type": "code",
   "execution_count": 93,
   "metadata": {},
   "outputs": [
    {
     "name": "stdout",
     "output_type": "stream",
     "text": [
      "(1582, 26)\n"
     ]
    }
   ],
   "source": [
    "away_moneyline_time_series_df = pd.DataFrame(away_moneyline_time_series)\n",
    "print(away_moneyline_time_series_df.shape)\n",
    "export_path = r'C:\\Users\\benny\\OneDrive\\Machine Learning\\ML1030\\Final Project\\Final Project'\n",
    "away_moneyline_time_series_df.to_csv(export_path+\"\\\\away_moneyline_time_series_120_df.csv\")"
   ]
  },
  {
   "cell_type": "code",
   "execution_count": 94,
   "metadata": {},
   "outputs": [],
   "source": [
    "home_moneyline_time_series = []\n",
    "for ga in game_ids:\n",
    "    for sp in sportsbook_ids: \n",
    "        odds_series = []\n",
    "        for hr in hours_ids:        \n",
    "            odds = nfl_games_120_df[(nfl_games_120_df['Game Number']==ga) & (nfl_games_120_df['Hours To Game']==hr) & (nfl_games_120_df['Book Encoded']==sp)]['Home Moneyline']\n",
    "            try:\n",
    "                odds = float(odds)\n",
    "                #print(odds)\n",
    "            except:\n",
    "                odds = float('nan')\n",
    "            odds_series.append(odds)\n",
    "        if nfl_games_24_df[(nfl_games_120_df['Game Number']==ga) & (nfl_games_120_df['Book Encoded']==sp)].empty:\n",
    "            #print('its empty!')\n",
    "            continue\n",
    "        else:\n",
    "            odds_series.append(ga)\n",
    "            odds_series.append(sp)\n",
    "            home_moneyline_time_series.append(odds_series)"
   ]
  },
  {
   "cell_type": "code",
   "execution_count": 95,
   "metadata": {},
   "outputs": [
    {
     "name": "stdout",
     "output_type": "stream",
     "text": [
      "(1582, 26)\n"
     ]
    }
   ],
   "source": [
    "home_moneyline_time_series_df = pd.DataFrame(home_moneyline_time_series)\n",
    "print(home_moneyline_time_series_df.shape)\n",
    "export_path = r'C:\\Users\\benny\\OneDrive\\Machine Learning\\ML1030\\Final Project\\Final Project'\n",
    "home_moneyline_time_series_df.to_csv(export_path+\"\\\\home_moneyline_time_series_120_df.csv\")"
   ]
  },
  {
   "cell_type": "code",
   "execution_count": 96,
   "metadata": {},
   "outputs": [],
   "source": [
    "away_pointspread_time_series = []\n",
    "for ga in game_ids:\n",
    "    for sp in sportsbook_ids: \n",
    "        odds_series = []\n",
    "        for hr in hours_ids:        \n",
    "            odds = nfl_games_120_df[(nfl_games_120_df['Game Number']==ga) & (nfl_games_120_df['Hours To Game']==hr) & (nfl_games_120_df['Book Encoded']==sp)]['Away Pointspread odds']\n",
    "            try:\n",
    "                odds = float(odds)\n",
    "                #print(odds)\n",
    "            except:\n",
    "                odds = float('nan')\n",
    "            odds_series.append(odds)\n",
    "        if nfl_games_24_df[(nfl_games_120_df['Game Number']==ga) & (nfl_games_120_df['Book Encoded']==sp)].empty:\n",
    "            #print('its empty!')\n",
    "            continue\n",
    "        else:\n",
    "            odds_series.append(ga)\n",
    "            odds_series.append(sp)\n",
    "            away_pointspread_time_series.append(odds_series)"
   ]
  },
  {
   "cell_type": "code",
   "execution_count": 97,
   "metadata": {},
   "outputs": [
    {
     "name": "stdout",
     "output_type": "stream",
     "text": [
      "(1582, 26)\n"
     ]
    }
   ],
   "source": [
    "away_pointspread_time_series_df = pd.DataFrame(away_pointspread_time_series)\n",
    "print(away_pointspread_time_series_df.shape)\n",
    "export_path = r'C:\\Users\\benny\\OneDrive\\Machine Learning\\ML1030\\Final Project\\Final Project'\n",
    "away_pointspread_time_series_df.to_csv(export_path+\"\\\\away_pointspread_time_series_120_df.csv\")"
   ]
  },
  {
   "cell_type": "code",
   "execution_count": 98,
   "metadata": {},
   "outputs": [],
   "source": [
    "home_pointspread_time_series = []\n",
    "for ga in game_ids:\n",
    "    for sp in sportsbook_ids: \n",
    "        odds_series = []\n",
    "        for hr in hours_ids:        \n",
    "            odds = nfl_games_120_df[(nfl_games_120_df['Game Number']==ga) & (nfl_games_120_df['Hours To Game']==hr) & (nfl_games_120_df['Book Encoded']==sp)]['Home Pointspread odds']\n",
    "            try:\n",
    "                odds = float(odds)\n",
    "                #print(odds)\n",
    "            except:\n",
    "                odds = float('nan')\n",
    "            odds_series.append(odds)\n",
    "        if nfl_games_120_df[(nfl_games_120_df['Game Number']==ga) & (nfl_games_120_df['Book Encoded']==sp)].empty:\n",
    "            #print('its empty!')\n",
    "            continue\n",
    "        else:\n",
    "            odds_series.append(ga)\n",
    "            odds_series.append(sp)\n",
    "            home_pointspread_time_series.append(odds_series)"
   ]
  },
  {
   "cell_type": "code",
   "execution_count": 99,
   "metadata": {},
   "outputs": [
    {
     "name": "stdout",
     "output_type": "stream",
     "text": [
      "(1582, 26)\n"
     ]
    }
   ],
   "source": [
    "home_pointspread_time_series_df = pd.DataFrame(home_pointspread_time_series)\n",
    "print(home_pointspread_time_series_df.shape)\n",
    "export_path = r'C:\\Users\\benny\\OneDrive\\Machine Learning\\ML1030\\Final Project\\Final Project'\n",
    "home_pointspread_time_series_df.to_csv(export_path+\"\\\\home_pointspread_time_series_120_df.csv\")"
   ]
  },
  {
   "cell_type": "code",
   "execution_count": 100,
   "metadata": {},
   "outputs": [],
   "source": [
    "over_odds_time_series = []\n",
    "for ga in game_ids:\n",
    "    for sp in sportsbook_ids: \n",
    "        odds_series = []\n",
    "        for hr in hours_ids:        \n",
    "            odds = nfl_games_120_df[(nfl_games_120_df['Game Number']==ga) & (nfl_games_120_df['Hours To Game']==hr) & (nfl_games_120_df['Book Encoded']==sp)]['Over odds']\n",
    "            try:\n",
    "                odds = float(odds)\n",
    "                #print(odds)\n",
    "            except:\n",
    "                odds = float('nan')\n",
    "            odds_series.append(odds)\n",
    "        if nfl_games_120_df[(nfl_games_120_df['Game Number']==ga) & (nfl_games_120_df['Book Encoded']==sp)].empty:\n",
    "            #print('its empty!')\n",
    "            continue\n",
    "        else:\n",
    "            odds_series.append(ga)\n",
    "            odds_series.append(sp)\n",
    "            over_odds_time_series.append(odds_series)"
   ]
  },
  {
   "cell_type": "code",
   "execution_count": 101,
   "metadata": {},
   "outputs": [
    {
     "name": "stdout",
     "output_type": "stream",
     "text": [
      "(1582, 26)\n"
     ]
    }
   ],
   "source": [
    "over_odds_time_series_df = pd.DataFrame(over_odds_time_series)\n",
    "print(over_odds_time_series_df.shape)\n",
    "export_path = r'C:\\Users\\benny\\OneDrive\\Machine Learning\\ML1030\\Final Project\\Final Project'\n",
    "over_odds_time_series_df.to_csv(export_path+\"\\\\over_odds_time_series_120_df.csv\")"
   ]
  },
  {
   "cell_type": "code",
   "execution_count": 102,
   "metadata": {},
   "outputs": [],
   "source": [
    "under_odds_time_series = []\n",
    "for ga in game_ids:\n",
    "    for sp in sportsbook_ids: \n",
    "        odds_series = []\n",
    "        for hr in hours_ids:        \n",
    "            odds = nfl_games_120_df[(nfl_games_120_df['Game Number']==ga) & (nfl_games_120_df['Hours To Game']==hr) & (nfl_games_120_df['Book Encoded']==sp)]['Under odds']\n",
    "            try:\n",
    "                odds = float(odds)\n",
    "                #print(odds)\n",
    "            except:\n",
    "                odds = float('nan')\n",
    "            odds_series.append(odds)\n",
    "        if nfl_games_24_df[(nfl_games_120_df['Game Number']==ga) & (nfl_games_120_df['Book Encoded']==sp)].empty:\n",
    "            #print('its empty!')\n",
    "            continue\n",
    "        else:\n",
    "            odds_series.append(ga)\n",
    "            odds_series.append(sp)\n",
    "            under_odds_time_series.append(odds_series)"
   ]
  },
  {
   "cell_type": "code",
   "execution_count": 103,
   "metadata": {},
   "outputs": [
    {
     "name": "stdout",
     "output_type": "stream",
     "text": [
      "(1582, 26)\n"
     ]
    }
   ],
   "source": [
    "under_odds_time_series_df = pd.DataFrame(under_odds_time_series)\n",
    "print(under_odds_time_series_df.shape)\n",
    "export_path = r'C:\\Users\\benny\\OneDrive\\Machine Learning\\ML1030\\Final Project\\Final Project'\n",
    "under_odds_time_series_df.to_csv(export_path+\"\\\\under_odds_time_series_120_df.csv\")"
   ]
  },
  {
   "cell_type": "code",
   "execution_count": 7,
   "metadata": {},
   "outputs": [],
   "source": [
    "moneyline_odds_file = r'C:\\Users\\benny\\OneDrive\\Machine Learning\\ML1030\\Final Project\\Unsupervised\\moneyline.csv'\n",
    "moneyline_odds_time_series_df = pd.read_csv(moneyline_odds_file)\n",
    "moneyline_odds_clustering = moneyline_odds_time_series_df.iloc[:,0:120]"
   ]
  },
  {
   "cell_type": "markdown",
   "metadata": {},
   "source": [
    "# Unsupervised Learning Implementation"
   ]
  },
  {
   "cell_type": "code",
   "execution_count": 8,
   "metadata": {},
   "outputs": [],
   "source": [
    "from sklearn.cluster import KMeans\n",
    "from sklearn import metrics\n",
    "from scipy.spatial.distance import cdist\n",
    "import numpy as np\n",
    "import matplotlib.pyplot as plt"
   ]
  },
  {
   "cell_type": "code",
   "execution_count": 9,
   "metadata": {},
   "outputs": [
    {
     "data": {
      "image/png": "[encoded data removed]",
      "text/plain": [
       "<Figure size 432x288 with 1 Axes>"
      ]
     },
     "metadata": {
      "needs_background": "light"
     },
     "output_type": "display_data"
    },
    {
     "name": "stdout",
     "output_type": "stream",
     "text": [
      "[1196.1069950392632, 560.3560630812407, 462.15616916308613, 394.1965514548991, 329.3084447571568, 291.17867199757274, 279.5866513066788, 237.63589770143767, 225.3884678045937, 202.18982383584938]\n"
     ]
    }
   ],
   "source": [
    "# k means determine k\n",
    "distortions = []\n",
    "K = range(1,11)\n",
    "for k in K:\n",
    "    kmeanModel = KMeans(n_clusters=k).fit(moneyline_odds_clustering)\n",
    "    kmeanModel.fit(moneyline_odds_clustering)\n",
    "    distortions.append(sum(np.min(cdist(moneyline_odds_clustering, kmeanModel.cluster_centers_, 'euclidean'), axis=1)) / moneyline_odds_clustering.shape[0])\n",
    "# Plot the elbow\n",
    "plt.plot(K, distortions, 'bx-')\n",
    "plt.xlabel('k')\n",
    "plt.ylabel('Euclidean Distance')\n",
    "plt.title('The Elbow Method showing the optimal k')\n",
    "plt.show()\n",
    "\n",
    "print(distortions)"
   ]
  },
  {
   "cell_type": "code",
   "execution_count": 46,
   "metadata": {},
   "outputs": [
    {
     "name": "stdout",
     "output_type": "stream",
     "text": [
      "[[ -165.23535062  -165.84630163  -164.54755043  -165.22286263\n",
      "   -165.41786744  -165.06532181  -165.67627281  -163.98751201\n",
      "   -164.77809798  -163.77521614  -168.12776177  -167.67723343\n",
      "   -165.92891451  -168.04610951  -168.21517771  -166.93852065\n",
      "   -165.95869356  -165.63976945  -164.71853987  -165.37944284\n",
      "   -166.35542747  -165.53794428  -164.55043228  -163.26801153]\n",
      " [  625.03225806   623.5          622.29032258   628.72580645\n",
      "    630.5          628.48387097   627.91935484   628.96774194\n",
      "    625.12903226   628.67741935   631.01612903   632.22580645\n",
      "    619.82258065   620.62903226   622.01612903   621.96774194\n",
      "    622.46774194   623.82258065   626.35483871   631.93548387\n",
      "    638.17741935   633.98387097   655.08064516   660.51612903]\n",
      " [  137.79689367   139.6344086    141.12425329   140.98685783\n",
      "    141.72043011   141.60334528   142.04659498   142.31660693\n",
      "    142.15651135   140.21146953   143.72998805   141.44444444\n",
      "    139.78614098   143.14217443   144.36798088   141.13500597\n",
      "    139.71923536   136.93428913   137.45997611   139.15770609\n",
      "    140.58542413   135.59020311   132.57586619   135.59378734]\n",
      " [ -948.4         -944.81666667  -944.81666667  -959.75\n",
      "   -961.41666667  -958.98333333  -958.66666667  -963.15\n",
      "   -949.53333333  -957.55        -960.1         -963.81666667\n",
      "   -943.06666667  -944.25        -950.3         -951.88333333\n",
      "   -952.1         -962.33333333  -961.21666667  -970.66666667\n",
      "   -989.16666667  -970.61666667 -1011.26666667 -1022.31666667]\n",
      " [  274.05109489   274.36313869   274.15510949   273.56934307\n",
      "    273.56386861   273.73540146   273.39051095   274.79014599\n",
      "    274.94708029   276.29379562   277.00182482   277.64233577\n",
      "    276.79014599   297.27737226   297.55474453   296.30109489\n",
      "    298.00364964   298.52189781   300.33394161   301.87956204\n",
      "    300.66970803   300.7080292    301.83759124   303.17153285]\n",
      " [ -357.7877551   -358.23265306  -357.95510204  -358.02857143\n",
      "   -357.67142857  -357.81836735  -357.40408163  -359.48163265\n",
      "   -360.09591837  -361.80816327  -362.96734694  -364.12857143\n",
      "   -363.90612245  -396.71632653  -397.33469388  -394.60816327\n",
      "   -397.19387755  -398.35306122  -400.95306122  -403.48163265\n",
      "   -402.62653061  -403.46734694  -405.4         -408.28979592]]\n"
     ]
    }
   ],
   "source": [
    "kmeans = KMeans(n_clusters=5).fit(moneyline_odds_clustering)\n",
    "centroids = kmeans.cluster_centers_\n",
    "print(centroids)\n",
    "c= kmeans.labels_.astype(int)"
   ]
  },
  {
   "cell_type": "code",
   "execution_count": 47,
   "metadata": {},
   "outputs": [],
   "source": [
    "c_df = pd.DataFrame(c)\n",
    "moneyline_odds_time_series_df['Cluster'] = c_df"
   ]
  },
  {
   "cell_type": "code",
   "execution_count": 48,
   "metadata": {},
   "outputs": [],
   "source": [
    "export_path = r'C:\\Users\\benny\\OneDrive\\Machine Learning\\ML1030\\Final Project\\Final Project'\n",
    "moneyline_odds_time_series_df.to_csv(export_path+\"\\\\moneyline_cluster.csv\")"
   ]
  },
  {
   "cell_type": "code",
   "execution_count": 50,
   "metadata": {},
   "outputs": [
    {
     "data": {
      "text/plain": [
       "<matplotlib.axes._subplots.AxesSubplot at 0x222477b5668>"
      ]
     },
     "execution_count": 50,
     "metadata": {},
     "output_type": "execute_result"
    },
    {
     "data": {
      "image/png": "[encoded data removed]",
      "text/plain": [
       "<Figure size 432x288 with 1 Axes>"
      ]
     },
     "metadata": {
      "needs_background": "light"
     },
     "output_type": "display_data"
    },
    {
     "data": {
      "image/png": "[encoded data removed]",
      "text/plain": [
       "<Figure size 432x288 with 1 Axes>"
      ]
     },
     "metadata": {
      "needs_background": "light"
     },
     "output_type": "display_data"
    },
    {
     "data": {
      "image/png": "[encoded data removed]",
      "text/plain": [
       "<Figure size 432x288 with 1 Axes>"
      ]
     },
     "metadata": {
      "needs_background": "light"
     },
     "output_type": "display_data"
    },
    {
     "data": {
      "image/png": "[encoded data removed]",
      "text/plain": [
       "<Figure size 432x288 with 1 Axes>"
      ]
     },
     "metadata": {
      "needs_background": "light"
     },
     "output_type": "display_data"
    },
    {
     "data": {
      "image/png": "[encoded data removed]",
      "text/plain": [
       "<Figure size 432x288 with 1 Axes>"
      ]
     },
     "metadata": {
      "needs_background": "light"
     },
     "output_type": "display_data"
    },
    {
     "data": {
      "image/png": "[encoded data removed]",
      "text/plain": [
       "<Figure size 432x288 with 1 Axes>"
      ]
     },
     "metadata": {
      "needs_background": "light"
     },
     "output_type": "display_data"
    }
   ],
   "source": [
    "cluster_0_df = moneyline_odds_time_series_df[moneyline_odds_time_series_df['Cluster']==0]\n",
    "plt.figure(1)\n",
    "cluster_0_df['25'].value_counts().plot('bar')\n",
    "\n",
    "cluster_1_df = moneyline_odds_time_series_df[moneyline_odds_time_series_df['Cluster']==1]\n",
    "plt.figure(2)\n",
    "cluster_1_df['25'].value_counts().plot('bar')\n",
    "\n",
    "cluster_2_df = moneyline_odds_time_series_df[moneyline_odds_time_series_df['Cluster']==2]\n",
    "plt.figure(3)\n",
    "cluster_2_df['25'].value_counts().plot('bar')\n",
    "\n",
    "cluster_3_df = moneyline_odds_time_series_df[moneyline_odds_time_series_df['Cluster']==3]\n",
    "plt.figure(4)\n",
    "cluster_3_df['25'].value_counts().plot('bar')\n",
    "\n",
    "cluster_4_df = moneyline_odds_time_series_df[moneyline_odds_time_series_df['Cluster']==4]\n",
    "plt.figure(5)\n",
    "cluster_4_df['25'].value_counts().plot('bar')\n",
    "\n",
    "#cluster_5_df = moneyline_odds_time_series_df[moneyline_odds_time_series_df['Cluster']==5]\n",
    "#plt.figure(6)\n",
    "#cluster_5_df['25'].value_counts().plot('bar')"
   ]
  },
  {
   "cell_type": "code",
   "execution_count": null,
   "metadata": {},
   "outputs": [],
   "source": [
    "from sklearn.decomposition import PCA\n",
    "pca = PCA(n_components=2)\n",
    "principalComponents = pca.fit_transform(moneyline_odds_clustering)\n",
    "principalDf = pd.DataFrame(data = principalComponents\n",
    "             , columns = ['PC1', 'PC2'])\n"
   ]
  }
 ],
 "metadata": {
  "kernelspec": {
   "display_name": "Python 3",
   "language": "python",
   "name": "python3"
  },
  "language_info": {
   "codemirror_mode": {
    "name": "ipython",
    "version": 3
   },
   "file_extension": ".py",
   "mimetype": "text/x-python",
   "name": "python",
   "nbconvert_exporter": "python",
   "pygments_lexer": "ipython3",
   "version": "3.6.8"
  }
 },
 "nbformat": 4,
 "nbformat_minor": 2
}
