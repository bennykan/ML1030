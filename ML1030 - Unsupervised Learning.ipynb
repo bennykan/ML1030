{
 "cells": [
  {
   "cell_type": "code",
   "execution_count": 1,
   "metadata": {},
   "outputs": [],
   "source": [
    "import pandas as pd\n",
    "import numpy as np\n",
    "from datetime import datetime\n",
    "from pytz import timezone\n",
    "import pytz\n",
    "import glob\n",
    "import os\n",
    "import re"
   ]
  },
  {
   "cell_type": "markdown",
   "metadata": {},
   "source": [
    "# Prepare the Dataset for Unsupervised Learning"
   ]
  },
  {
   "cell_type": "code",
   "execution_count": 3,
   "metadata": {},
   "outputs": [
    {
     "name": "stderr",
     "output_type": "stream",
     "text": [
      "C:\\Users\\benny\\Anaconda3\\lib\\site-packages\\IPython\\core\\interactiveshell.py:3020: DtypeWarning: Columns (5,6,7,9,25) have mixed types. Specify dtype option on import or set low_memory=False.\n",
      "  interactivity=interactivity, compiler=compiler, result=result)\n"
     ]
    }
   ],
   "source": [
    "nfl_games_juice_file = r'C:\\Users\\benny\\OneDrive\\Machine Learning\\ML1030\\Final Project\\Final Project\\sportsbook_data_ALL_with_Juice.csv'\n",
    "nfl_games_juice_df = pd.read_csv(nfl_games_juice_file)"
   ]
  },
  {
   "cell_type": "markdown",
   "metadata": {},
   "source": [
    "## Create a Time Label in Hours from the Odds Timestamp"
   ]
  },
  {
   "cell_type": "code",
   "execution_count": 29,
   "metadata": {},
   "outputs": [
    {
     "name": "stdout",
     "output_type": "stream",
     "text": [
      "0         2018-09-06 20:20:00\n",
      "1         2018-09-06 20:20:00\n",
      "2         2018-09-06 20:20:00\n",
      "3         2018-09-06 20:20:00\n",
      "4         2018-09-06 20:20:00\n",
      "5         2018-09-06 20:20:00\n",
      "6         2018-09-06 20:20:00\n",
      "7         2018-09-06 20:20:00\n",
      "8         2018-09-06 20:20:00\n",
      "9         2018-09-06 20:20:00\n",
      "10        2018-09-06 20:20:00\n",
      "11        2018-09-06 20:20:00\n",
      "12        2018-09-06 20:20:00\n",
      "13        2018-09-06 20:20:00\n",
      "14        2018-09-06 20:20:00\n",
      "15        2018-09-06 20:20:00\n",
      "16        2018-09-06 20:20:00\n",
      "17        2018-09-06 20:20:00\n",
      "18        2018-09-06 20:20:00\n",
      "19        2018-09-06 20:20:00\n",
      "20        2018-09-06 20:20:00\n",
      "21        2018-09-06 20:20:00\n",
      "22        2018-09-06 20:20:00\n",
      "23        2018-09-06 20:20:00\n",
      "24        2018-09-06 20:20:00\n",
      "25        2018-09-06 20:20:00\n",
      "26        2018-09-06 20:20:00\n",
      "27        2018-09-06 20:20:00\n",
      "28        2018-09-06 20:20:00\n",
      "29        2018-09-06 20:20:00\n",
      "                 ...         \n",
      "418678    2018-12-30 16:25:00\n",
      "418679    2018-12-30 16:25:00\n",
      "418680    2018-12-30 16:25:00\n",
      "418681    2018-12-30 16:25:00\n",
      "418682    2018-12-30 16:25:00\n",
      "418683    2018-12-30 16:25:00\n",
      "418684    2018-12-30 16:25:00\n",
      "418685    2018-12-30 16:25:00\n",
      "418686    2018-12-30 16:25:00\n",
      "418687    2018-12-30 16:25:00\n",
      "418688    2018-12-30 16:25:00\n",
      "418689    2018-12-30 16:25:00\n",
      "418690    2018-12-30 16:25:00\n",
      "418691    2018-12-30 16:25:00\n",
      "418692    2018-12-30 16:25:00\n",
      "418693    2018-12-30 16:25:00\n",
      "418694    2018-12-30 16:25:00\n",
      "418695    2018-12-30 16:25:00\n",
      "418696    2018-12-30 16:25:00\n",
      "418697    2018-12-30 16:25:00\n",
      "418698    2018-12-30 16:25:00\n",
      "418699    2018-12-30 16:25:00\n",
      "418700    2018-12-30 16:25:00\n",
      "418701    2018-12-30 16:25:00\n",
      "418702    2018-12-30 16:25:00\n",
      "418703    2018-12-30 16:25:00\n",
      "418704    2018-12-30 16:25:00\n",
      "418705    2018-12-30 16:25:00\n",
      "418706    2018-12-30 16:25:00\n",
      "418707    2018-12-30 16:25:00\n",
      "Name: Game Time, Length: 418708, dtype: object\n",
      "0         2018-09-02 11:37:47\n",
      "1         2018-08-30 16:54:20\n",
      "2         2018-08-30 17:54:19\n",
      "3         2018-08-30 18:54:20\n",
      "4         2018-08-30 19:54:20\n",
      "5         2018-08-30 20:54:20\n",
      "6         2018-08-31 09:54:19\n",
      "7         2018-08-31 10:54:19\n",
      "8         2018-08-31 11:54:20\n",
      "9         2018-08-31 12:54:21\n",
      "10        2018-08-31 13:54:20\n",
      "11        2018-08-31 14:54:20\n",
      "12        2018-08-31 15:54:19\n",
      "13        2018-08-31 16:54:20\n",
      "14        2018-08-31 17:54:20\n",
      "15        2018-08-31 18:54:20\n",
      "16        2018-08-31 19:54:21\n",
      "17        2018-08-31 20:54:20\n",
      "18        2018-08-31 21:54:20\n",
      "19        2018-08-31 22:54:20\n",
      "20        2018-08-31 23:54:19\n",
      "21        2018-09-01 00:54:19\n",
      "22        2018-09-01 01:54:19\n",
      "23        2018-09-01 02:54:19\n",
      "24        2018-09-01 03:54:19\n",
      "25        2018-09-01 04:54:19\n",
      "26        2018-09-01 05:54:19\n",
      "27        2018-09-01 06:54:19\n",
      "28        2018-09-01 07:54:19\n",
      "29        2018-09-01 08:54:19\n",
      "                 ...         \n",
      "418678    2018-12-29 11:25:45\n",
      "418679    2018-12-29 12:26:17\n",
      "418680    2018-12-29 13:25:30\n",
      "418681    2018-12-29 14:26:03\n",
      "418682    2018-12-29 15:25:36\n",
      "418683    2018-12-29 16:25:43\n",
      "418684    2018-12-29 17:25:59\n",
      "418685    2018-12-29 18:25:39\n",
      "418686    2018-12-29 19:25:44\n",
      "418687    2018-12-29 20:26:05\n",
      "418688    2018-12-29 21:25:49\n",
      "418689    2018-12-29 22:25:54\n",
      "418690    2018-12-29 23:26:06\n",
      "418691    2018-12-30 00:25:43\n",
      "418692    2018-12-30 01:25:34\n",
      "418693    2018-12-30 02:25:09\n",
      "418694    2018-12-30 03:25:44\n",
      "418695    2018-12-30 04:26:28\n",
      "418696    2018-12-30 05:25:50\n",
      "418697    2018-12-30 06:25:18\n",
      "418698    2018-12-30 07:25:46\n",
      "418699    2018-12-30 08:26:01\n",
      "418700    2018-12-30 09:25:44\n",
      "418701    2018-12-30 10:26:16\n",
      "418702    2018-12-30 11:26:05\n",
      "418703    2018-12-30 12:25:41\n",
      "418704    2018-12-30 13:24:41\n",
      "418705    2018-12-30 14:24:49\n",
      "418706    2018-12-30 15:24:51\n",
      "418707    2018-12-30 16:24:56\n",
      "Name: timestamp_est, Length: 418708, dtype: object\n"
     ]
    }
   ],
   "source": [
    "game_time_str = nfl_games_juice_df.loc[:,'Game Time']\n",
    "game_time_str = game_time_str.str.slice(0,19)\n",
    "timestamp_str = nfl_games_juice_df.loc[:,'timestamp_est']\n",
    "timestamp_str = timestamp_str.str.slice(0,19)\n",
    "\n",
    "print(game_time_str)\n",
    "print(timestamp_str)\n"
   ]
  },
  {
   "cell_type": "code",
   "execution_count": 32,
   "metadata": {},
   "outputs": [
    {
     "name": "stdout",
     "output_type": "stream",
     "text": [
      "0        2018-09-06 20:20:00\n",
      "1        2018-09-06 20:20:00\n",
      "2        2018-09-06 20:20:00\n",
      "3        2018-09-06 20:20:00\n",
      "4        2018-09-06 20:20:00\n",
      "5        2018-09-06 20:20:00\n",
      "6        2018-09-06 20:20:00\n",
      "7        2018-09-06 20:20:00\n",
      "8        2018-09-06 20:20:00\n",
      "9        2018-09-06 20:20:00\n",
      "10       2018-09-06 20:20:00\n",
      "11       2018-09-06 20:20:00\n",
      "12       2018-09-06 20:20:00\n",
      "13       2018-09-06 20:20:00\n",
      "14       2018-09-06 20:20:00\n",
      "15       2018-09-06 20:20:00\n",
      "16       2018-09-06 20:20:00\n",
      "17       2018-09-06 20:20:00\n",
      "18       2018-09-06 20:20:00\n",
      "19       2018-09-06 20:20:00\n",
      "20       2018-09-06 20:20:00\n",
      "21       2018-09-06 20:20:00\n",
      "22       2018-09-06 20:20:00\n",
      "23       2018-09-06 20:20:00\n",
      "24       2018-09-06 20:20:00\n",
      "25       2018-09-06 20:20:00\n",
      "26       2018-09-06 20:20:00\n",
      "27       2018-09-06 20:20:00\n",
      "28       2018-09-06 20:20:00\n",
      "29       2018-09-06 20:20:00\n",
      "                 ...        \n",
      "418678   2018-12-30 16:25:00\n",
      "418679   2018-12-30 16:25:00\n",
      "418680   2018-12-30 16:25:00\n",
      "418681   2018-12-30 16:25:00\n",
      "418682   2018-12-30 16:25:00\n",
      "418683   2018-12-30 16:25:00\n",
      "418684   2018-12-30 16:25:00\n",
      "418685   2018-12-30 16:25:00\n",
      "418686   2018-12-30 16:25:00\n",
      "418687   2018-12-30 16:25:00\n",
      "418688   2018-12-30 16:25:00\n",
      "418689   2018-12-30 16:25:00\n",
      "418690   2018-12-30 16:25:00\n",
      "418691   2018-12-30 16:25:00\n",
      "418692   2018-12-30 16:25:00\n",
      "418693   2018-12-30 16:25:00\n",
      "418694   2018-12-30 16:25:00\n",
      "418695   2018-12-30 16:25:00\n",
      "418696   2018-12-30 16:25:00\n",
      "418697   2018-12-30 16:25:00\n",
      "418698   2018-12-30 16:25:00\n",
      "418699   2018-12-30 16:25:00\n",
      "418700   2018-12-30 16:25:00\n",
      "418701   2018-12-30 16:25:00\n",
      "418702   2018-12-30 16:25:00\n",
      "418703   2018-12-30 16:25:00\n",
      "418704   2018-12-30 16:25:00\n",
      "418705   2018-12-30 16:25:00\n",
      "418706   2018-12-30 16:25:00\n",
      "418707   2018-12-30 16:25:00\n",
      "Name: Game Time, Length: 418708, dtype: datetime64[ns]\n",
      "0        2018-09-02 11:37:47\n",
      "1        2018-08-30 16:54:20\n",
      "2        2018-08-30 17:54:19\n",
      "3        2018-08-30 18:54:20\n",
      "4        2018-08-30 19:54:20\n",
      "5        2018-08-30 20:54:20\n",
      "6        2018-08-31 09:54:19\n",
      "7        2018-08-31 10:54:19\n",
      "8        2018-08-31 11:54:20\n",
      "9        2018-08-31 12:54:21\n",
      "10       2018-08-31 13:54:20\n",
      "11       2018-08-31 14:54:20\n",
      "12       2018-08-31 15:54:19\n",
      "13       2018-08-31 16:54:20\n",
      "14       2018-08-31 17:54:20\n",
      "15       2018-08-31 18:54:20\n",
      "16       2018-08-31 19:54:21\n",
      "17       2018-08-31 20:54:20\n",
      "18       2018-08-31 21:54:20\n",
      "19       2018-08-31 22:54:20\n",
      "20       2018-08-31 23:54:19\n",
      "21       2018-09-01 00:54:19\n",
      "22       2018-09-01 01:54:19\n",
      "23       2018-09-01 02:54:19\n",
      "24       2018-09-01 03:54:19\n",
      "25       2018-09-01 04:54:19\n",
      "26       2018-09-01 05:54:19\n",
      "27       2018-09-01 06:54:19\n",
      "28       2018-09-01 07:54:19\n",
      "29       2018-09-01 08:54:19\n",
      "                 ...        \n",
      "418678   2018-12-29 11:25:45\n",
      "418679   2018-12-29 12:26:17\n",
      "418680   2018-12-29 13:25:30\n",
      "418681   2018-12-29 14:26:03\n",
      "418682   2018-12-29 15:25:36\n",
      "418683   2018-12-29 16:25:43\n",
      "418684   2018-12-29 17:25:59\n",
      "418685   2018-12-29 18:25:39\n",
      "418686   2018-12-29 19:25:44\n",
      "418687   2018-12-29 20:26:05\n",
      "418688   2018-12-29 21:25:49\n",
      "418689   2018-12-29 22:25:54\n",
      "418690   2018-12-29 23:26:06\n",
      "418691   2018-12-30 00:25:43\n",
      "418692   2018-12-30 01:25:34\n",
      "418693   2018-12-30 02:25:09\n",
      "418694   2018-12-30 03:25:44\n",
      "418695   2018-12-30 04:26:28\n",
      "418696   2018-12-30 05:25:50\n",
      "418697   2018-12-30 06:25:18\n",
      "418698   2018-12-30 07:25:46\n",
      "418699   2018-12-30 08:26:01\n",
      "418700   2018-12-30 09:25:44\n",
      "418701   2018-12-30 10:26:16\n",
      "418702   2018-12-30 11:26:05\n",
      "418703   2018-12-30 12:25:41\n",
      "418704   2018-12-30 13:24:41\n",
      "418705   2018-12-30 14:24:49\n",
      "418706   2018-12-30 15:24:51\n",
      "418707   2018-12-30 16:24:56\n",
      "Name: timestamp_est, Length: 418708, dtype: datetime64[ns]\n"
     ]
    }
   ],
   "source": [
    "game_time_date = pd.to_datetime(game_time_str, format='%Y-%m-%d %H:%M:%S')\n",
    "timestamp_date = pd.to_datetime(timestamp_str, format='%Y-%m-%d %H:%M:%S')\n",
    "print(game_time_date)\n",
    "print(timestamp_date)"
   ]
  },
  {
   "cell_type": "code",
   "execution_count": 38,
   "metadata": {},
   "outputs": [
    {
     "name": "stdout",
     "output_type": "stream",
     "text": [
      "0         104.0\n",
      "1         171.0\n",
      "2         170.0\n",
      "3         169.0\n",
      "4         168.0\n",
      "5         167.0\n",
      "6         154.0\n",
      "7         153.0\n",
      "8         152.0\n",
      "9         151.0\n",
      "10        150.0\n",
      "11        149.0\n",
      "12        148.0\n",
      "13        147.0\n",
      "14        146.0\n",
      "15        145.0\n",
      "16        144.0\n",
      "17        143.0\n",
      "18        142.0\n",
      "19        141.0\n",
      "20        140.0\n",
      "21        139.0\n",
      "22        138.0\n",
      "23        137.0\n",
      "24        136.0\n",
      "25        135.0\n",
      "26        134.0\n",
      "27        133.0\n",
      "28        132.0\n",
      "29        131.0\n",
      "          ...  \n",
      "418678     28.0\n",
      "418679     27.0\n",
      "418680     26.0\n",
      "418681     25.0\n",
      "418682     24.0\n",
      "418683     23.0\n",
      "418684     22.0\n",
      "418685     21.0\n",
      "418686     20.0\n",
      "418687     19.0\n",
      "418688     18.0\n",
      "418689     17.0\n",
      "418690     16.0\n",
      "418691     15.0\n",
      "418692     14.0\n",
      "418693     13.0\n",
      "418694     12.0\n",
      "418695     11.0\n",
      "418696     10.0\n",
      "418697      9.0\n",
      "418698      8.0\n",
      "418699      7.0\n",
      "418700      6.0\n",
      "418701      5.0\n",
      "418702      4.0\n",
      "418703      3.0\n",
      "418704      3.0\n",
      "418705      2.0\n",
      "418706      1.0\n",
      "418707      0.0\n",
      "Length: 418708, dtype: float64\n"
     ]
    }
   ],
   "source": [
    "diff = (game_time_date - timestamp_date).astype('timedelta64[h]')\n",
    "print(diff)\n",
    "nfl_games_juice_df['Hours To Game'] = diff"
   ]
  },
  {
   "cell_type": "code",
   "execution_count": 47,
   "metadata": {},
   "outputs": [
    {
     "name": "stdout",
     "output_type": "stream",
     "text": [
      "        Book Away Moneyline Home Moneyline Away Pointspread points  \\\n",
      "0   alfabook            115           -135                     2.5   \n",
      "1  bravobook            NaN            NaN                       3   \n",
      "2  bravobook            NaN            NaN                       3   \n",
      "3  bravobook            NaN            NaN                       3   \n",
      "4  bravobook            NaN            NaN                       3   \n",
      "\n",
      "   Away Pointspread odds Home Pointspread points  Home Pointspread odds  \\\n",
      "0                 -110.0                    -2.5                 -110.0   \n",
      "1                 -119.0                      -3                 -101.0   \n",
      "2                 -110.0                      -3                 -110.0   \n",
      "3                 -110.0                      -3                 -110.0   \n",
      "4                 -110.0                      -3                 -110.0   \n",
      "\n",
      "   Total points  Over odds  Under odds      ...       YdsL TOL  \\\n",
      "0          45.5     -108.0      -112.0      ...        299   1   \n",
      "1          45.5     -105.0      -115.0      ...        299   1   \n",
      "2          45.5     -105.0      -115.0      ...        299   1   \n",
      "3          45.5     -105.0      -115.0      ...        299   1   \n",
      "4          45.5     -105.0      -115.0      ...        299   1   \n",
      "\n",
      "                Home_y           Away_y                  Game Time Pre-Game  \\\n",
      "0  Philadelphia Eagles  Atlanta Falcons  2018-09-06 20:20:00-04:00     True   \n",
      "1  Philadelphia Eagles  Atlanta Falcons  2018-09-06 20:20:00-04:00     True   \n",
      "2  Philadelphia Eagles  Atlanta Falcons  2018-09-06 20:20:00-04:00     True   \n",
      "3  Philadelphia Eagles  Atlanta Falcons  2018-09-06 20:20:00-04:00     True   \n",
      "4  Philadelphia Eagles  Atlanta Falcons  2018-09-06 20:20:00-04:00     True   \n",
      "\n",
      "  Juice Moneyline  Juice Pointspread  Juice Total  Hours To Game  \n",
      "0        3.807711           4.545455     4.537582          104.0  \n",
      "1             NaN           4.385508     4.496208          171.0  \n",
      "2             NaN           4.545455     4.496208          170.0  \n",
      "3             NaN           4.545455     4.496208          169.0  \n",
      "4             NaN           4.545455     4.496208          168.0  \n",
      "\n",
      "[5 rows x 31 columns]\n"
     ]
    }
   ],
   "source": [
    "nfl_games_juice_hours_df = nfl_games_juice_df[['Book','Away Moneyline','Home Moneyline','Away Pointspread points','Away Pointspread odds','Home Pointspread points','Home Pointspread odds','Total points','Over odds','Under odds','Away_x','Home_x','Game','Game Number','timestamp_est','Winner/tie','Loser/tie','PtsW','PtsL','YdsW','TOW','YdsL','TOL','Home_y','Away_y','Game Time','Pre-Game','Juice Moneyline','Juice Pointspread','Juice Total','Hours To Game']]\n",
    "print(nfl_games_juice_hours_df.head())"
   ]
  },
  {
   "cell_type": "code",
   "execution_count": 48,
   "metadata": {},
   "outputs": [],
   "source": [
    "export_path = r'C:\\Users\\benny\\OneDrive\\Machine Learning\\ML1030\\Final Project\\Final Project'\n",
    "nfl_games_juice_hours_df.to_csv(export_path+\"\\\\sportsbook_data_ALL_with_Juice_Hours.csv\")"
   ]
  },
  {
   "cell_type": "code",
   "execution_count": 3,
   "metadata": {},
   "outputs": [
    {
     "name": "stderr",
     "output_type": "stream",
     "text": [
      "C:\\Users\\benny\\Anaconda3\\lib\\site-packages\\IPython\\core\\interactiveshell.py:3020: DtypeWarning: Columns (2,3,4,6) have mixed types. Specify dtype option on import or set low_memory=False.\n",
      "  interactivity=interactivity, compiler=compiler, result=result)\n"
     ]
    }
   ],
   "source": [
    "nfl_games_file = r'C:\\Users\\benny\\OneDrive\\Machine Learning\\ML1030\\Final Project\\Final Project\\sportsbook_data_ALL_with_Juice_Hours.csv'\n",
    "nfl_games_df = pd.read_csv(nfl_games_file)"
   ]
  },
  {
   "cell_type": "code",
   "execution_count": 4,
   "metadata": {},
   "outputs": [
    {
     "name": "stdout",
     "output_type": "stream",
     "text": [
      "   Unnamed: 0       Book Away Moneyline Home Moneyline  \\\n",
      "0           0   alfabook            115           -135   \n",
      "1           1  bravobook            NaN            NaN   \n",
      "2           2  bravobook            NaN            NaN   \n",
      "3           3  bravobook            NaN            NaN   \n",
      "4           4  bravobook            NaN            NaN   \n",
      "\n",
      "  Away Pointspread points  Away Pointspread odds Home Pointspread points  \\\n",
      "0                     2.5                 -110.0                    -2.5   \n",
      "1                       3                 -119.0                      -3   \n",
      "2                       3                 -110.0                      -3   \n",
      "3                       3                 -110.0                      -3   \n",
      "4                       3                 -110.0                      -3   \n",
      "\n",
      "   Home Pointspread odds  Total points  Over odds      ...       TOL  \\\n",
      "0                 -110.0          45.5     -108.0      ...         1   \n",
      "1                 -101.0          45.5     -105.0      ...         1   \n",
      "2                 -110.0          45.5     -105.0      ...         1   \n",
      "3                 -110.0          45.5     -105.0      ...         1   \n",
      "4                 -110.0          45.5     -105.0      ...         1   \n",
      "\n",
      "                Home_y           Away_y                  Game Time  Pre-Game  \\\n",
      "0  Philadelphia Eagles  Atlanta Falcons  2018-09-06 20:20:00-04:00      True   \n",
      "1  Philadelphia Eagles  Atlanta Falcons  2018-09-06 20:20:00-04:00      True   \n",
      "2  Philadelphia Eagles  Atlanta Falcons  2018-09-06 20:20:00-04:00      True   \n",
      "3  Philadelphia Eagles  Atlanta Falcons  2018-09-06 20:20:00-04:00      True   \n",
      "4  Philadelphia Eagles  Atlanta Falcons  2018-09-06 20:20:00-04:00      True   \n",
      "\n",
      "  Juice Moneyline Juice Pointspread Juice Total  Hours To Game  Book Encoded  \n",
      "0        3.807711          4.545455    4.537582          104.0             0  \n",
      "1             NaN          4.385508    4.496208          171.0             1  \n",
      "2             NaN          4.545455    4.496208          170.0             1  \n",
      "3             NaN          4.545455    4.496208          169.0             1  \n",
      "4             NaN          4.545455    4.496208          168.0             1  \n",
      "\n",
      "[5 rows x 33 columns]\n"
     ]
    }
   ],
   "source": [
    "nfl_games_df[\"Book\"] = nfl_games_df[\"Book\"].astype('category')\n",
    "nfl_games_df[\"Book Encoded\"] = nfl_games_df[\"Book\"].cat.codes\n",
    "nfl_games_df.reset_index(drop=True, inplace=True)\n",
    "print(nfl_games_df.head())"
   ]
  },
  {
   "cell_type": "markdown",
   "metadata": {},
   "source": [
    "# Create Time Series with 120 Hours of Odds into the Game"
   ]
  },
  {
   "cell_type": "code",
   "execution_count": 5,
   "metadata": {},
   "outputs": [
    {
     "name": "stdout",
     "output_type": "stream",
     "text": [
      "(418708, 33)\n",
      "(192815, 33)\n"
     ]
    }
   ],
   "source": [
    "nfl_games_120_df = nfl_games_df[(nfl_games_df['Hours To Game']<120) & (nfl_games_df['Hours To Game']>=0)]\n",
    "print(nfl_games_df.shape)\n",
    "print(nfl_games_120_df.shape)"
   ]
  },
  {
   "cell_type": "code",
   "execution_count": 6,
   "metadata": {},
   "outputs": [
    {
     "name": "stdout",
     "output_type": "stream",
     "text": [
      "(192815, 10)\n"
     ]
    }
   ],
   "source": [
    "nfl_games_120_df = nfl_games_120_df[['Book','Away Moneyline','Home Moneyline','Away Pointspread odds','Home Pointspread odds','Over odds','Under odds','Game Number','Hours To Game','Book Encoded']]\n",
    "#nfl_games_24_df = nfl_games_24_df[['Book','Away Moneyline','Home Moneyline','Away Pointspread odds','Home Pointspread odds','Over odds','Under odds','Game Number','Hours To Game']]\n",
    "print(nfl_games_120_df.shape)"
   ]
  },
  {
   "cell_type": "code",
   "execution_count": 7,
   "metadata": {},
   "outputs": [
    {
     "name": "stdout",
     "output_type": "stream",
     "text": [
      "[0, 1, 2, 3, 4, 5, 6, 7, 8, 9, 10, 11]\n",
      "[1, 2, 3, 4, 5, 6, 7, 8, 9, 10, 11, 12, 13, 14, 15, 16, 17, 18, 19, 20, 21, 22, 23, 24, 25, 26, 27, 28, 29, 30, 31, 32, 33, 34, 35, 36, 37, 38, 39, 40, 41, 42, 43, 44, 45, 46, 47, 48, 49, 50, 51, 52, 53, 54, 55, 56, 57, 58, 59, 60, 61, 62, 63, 64, 65, 66, 67, 68, 69, 70, 71, 72, 73, 74, 75, 76, 77, 78, 79, 80, 81, 82, 83, 84, 85, 86, 87, 88, 89, 90, 91, 92, 93, 94, 95, 96, 97, 98, 99, 100, 101, 102, 103, 104, 105, 106, 107, 108, 109, 110, 111, 112, 113, 114, 115, 116, 117, 118, 119, 120, 121, 122, 123, 124, 125, 126, 127, 128, 129, 130, 131, 132, 133, 134, 135, 136, 137, 138, 139, 140, 141, 142, 143, 144, 145, 146, 147, 148, 149, 150, 151, 152, 153, 154, 155, 156, 157, 158, 159, 160, 161, 162, 163, 164, 165, 166, 167, 168, 169, 170, 171, 172, 173, 174, 175, 176]\n",
      "[119, 118, 117, 116, 115, 114, 113, 112, 111, 110, 109, 108, 107, 106, 105, 104, 103, 102, 101, 100, 99, 98, 97, 96, 95, 94, 93, 92, 91, 90, 89, 88, 87, 86, 85, 84, 83, 82, 81, 80, 79, 78, 77, 76, 75, 74, 73, 72, 71, 70, 69, 68, 67, 66, 65, 64, 63, 62, 61, 60, 59, 58, 57, 56, 55, 54, 53, 52, 51, 50, 49, 48, 47, 46, 45, 44, 43, 42, 41, 40, 39, 38, 37, 36, 35, 34, 33, 32, 31, 30, 29, 28, 27, 26, 25, 24, 23, 22, 21, 20, 19, 18, 17, 16, 15, 14, 13, 12, 11, 10, 9, 8, 7, 6, 5, 4, 3, 2, 1, 0]\n",
      "Book                     category\n",
      "Away Moneyline             object\n",
      "Home Moneyline             object\n",
      "Away Pointspread odds     float64\n",
      "Home Pointspread odds     float64\n",
      "Over odds                 float64\n",
      "Under odds                float64\n",
      "Game Number                 int64\n",
      "Hours To Game             float64\n",
      "Book Encoded                 int8\n",
      "dtype: object\n"
     ]
    }
   ],
   "source": [
    "sportsbook_ids = [s for s in range(0, 12)]\n",
    "game_ids = [i for i in range(1, 177)]\n",
    "hours_ids = [z for z in range(119,-1,-1)]\n",
    "print(sportsbook_ids)\n",
    "print(game_ids)\n",
    "print(hours_ids)\n",
    "print(nfl_games_120_df.dtypes)"
   ]
  },
  {
   "cell_type": "code",
   "execution_count": 11,
   "metadata": {},
   "outputs": [],
   "source": [
    "away_moneyline_time_series = []\n",
    "for ga in game_ids:\n",
    "    for sp in sportsbook_ids: \n",
    "        odds_series = []\n",
    "        for hr in hours_ids:        \n",
    "            odds = nfl_games_120_df[(nfl_games_120_df['Game Number']==ga) & (nfl_games_120_df['Hours To Game']==hr) & (nfl_games_120_df['Book Encoded']==sp)]['Away Moneyline']\n",
    "            try:\n",
    "                odds = float(odds)\n",
    "                #print(odds)\n",
    "            except:\n",
    "                odds = float('nan')\n",
    "            odds_series.append(odds)\n",
    "        if nfl_games_120_df[(nfl_games_120_df['Game Number']==ga) & (nfl_games_120_df['Book Encoded']==sp)].empty:\n",
    "            #print('its empty!')\n",
    "            continue\n",
    "        else:\n",
    "            odds_series.append(ga)\n",
    "            odds_series.append(sp)\n",
    "            away_moneyline_time_series.append(odds_series)\n"
   ]
  },
  {
   "cell_type": "code",
   "execution_count": 12,
   "metadata": {},
   "outputs": [
    {
     "name": "stdout",
     "output_type": "stream",
     "text": [
      "(1775, 122)\n"
     ]
    }
   ],
   "source": [
    "away_moneyline_time_series_df = pd.DataFrame(away_moneyline_time_series)\n",
    "print(away_moneyline_time_series_df.shape)\n",
    "export_path = r'C:\\Users\\benny\\OneDrive\\Machine Learning\\ML1030\\Final Project\\Final Project'\n",
    "away_moneyline_time_series_df.to_csv(export_path+\"\\\\away_moneyline_time_series_120_df.csv\")"
   ]
  },
  {
   "cell_type": "code",
   "execution_count": 14,
   "metadata": {},
   "outputs": [],
   "source": [
    "home_moneyline_time_series = []\n",
    "for ga in game_ids:\n",
    "    for sp in sportsbook_ids: \n",
    "        odds_series = []\n",
    "        for hr in hours_ids:        \n",
    "            odds = nfl_games_120_df[(nfl_games_120_df['Game Number']==ga) & (nfl_games_120_df['Hours To Game']==hr) & (nfl_games_120_df['Book Encoded']==sp)]['Home Moneyline']\n",
    "            try:\n",
    "                odds = float(odds)\n",
    "                #print(odds)\n",
    "            except:\n",
    "                odds = float('nan')\n",
    "            odds_series.append(odds)\n",
    "        if nfl_games_120_df[(nfl_games_120_df['Game Number']==ga) & (nfl_games_120_df['Book Encoded']==sp)].empty:\n",
    "            #print('its empty!')\n",
    "            continue\n",
    "        else:\n",
    "            odds_series.append(ga)\n",
    "            odds_series.append(sp)\n",
    "            home_moneyline_time_series.append(odds_series)"
   ]
  },
  {
   "cell_type": "code",
   "execution_count": 15,
   "metadata": {},
   "outputs": [
    {
     "name": "stdout",
     "output_type": "stream",
     "text": [
      "(1775, 122)\n"
     ]
    }
   ],
   "source": [
    "home_moneyline_time_series_df = pd.DataFrame(home_moneyline_time_series)\n",
    "print(home_moneyline_time_series_df.shape)\n",
    "export_path = r'C:\\Users\\benny\\OneDrive\\Machine Learning\\ML1030\\Final Project\\Final Project'\n",
    "home_moneyline_time_series_df.to_csv(export_path+\"\\\\home_moneyline_time_series_120_df.csv\")"
   ]
  },
  {
   "cell_type": "code",
   "execution_count": 17,
   "metadata": {},
   "outputs": [],
   "source": [
    "away_pointspread_time_series = []\n",
    "for ga in game_ids:\n",
    "    for sp in sportsbook_ids: \n",
    "        odds_series = []\n",
    "        for hr in hours_ids:        \n",
    "            odds = nfl_games_120_df[(nfl_games_120_df['Game Number']==ga) & (nfl_games_120_df['Hours To Game']==hr) & (nfl_games_120_df['Book Encoded']==sp)]['Away Pointspread odds']\n",
    "            try:\n",
    "                odds = float(odds)\n",
    "                #print(odds)\n",
    "            except:\n",
    "                odds = float('nan')\n",
    "            odds_series.append(odds)\n",
    "        if nfl_games_120_df[(nfl_games_120_df['Game Number']==ga) & (nfl_games_120_df['Book Encoded']==sp)].empty:\n",
    "            #print('its empty!')\n",
    "            continue\n",
    "        else:\n",
    "            odds_series.append(ga)\n",
    "            odds_series.append(sp)\n",
    "            away_pointspread_time_series.append(odds_series)"
   ]
  },
  {
   "cell_type": "code",
   "execution_count": 18,
   "metadata": {},
   "outputs": [
    {
     "name": "stdout",
     "output_type": "stream",
     "text": [
      "(1775, 122)\n"
     ]
    }
   ],
   "source": [
    "away_pointspread_time_series_df = pd.DataFrame(away_pointspread_time_series)\n",
    "print(away_pointspread_time_series_df.shape)\n",
    "export_path = r'C:\\Users\\benny\\OneDrive\\Machine Learning\\ML1030\\Final Project\\Final Project'\n",
    "away_pointspread_time_series_df.to_csv(export_path+\"\\\\away_pointspread_time_series_120_df.csv\")"
   ]
  },
  {
   "cell_type": "code",
   "execution_count": 19,
   "metadata": {},
   "outputs": [],
   "source": [
    "home_pointspread_time_series = []\n",
    "for ga in game_ids:\n",
    "    for sp in sportsbook_ids: \n",
    "        odds_series = []\n",
    "        for hr in hours_ids:        \n",
    "            odds = nfl_games_120_df[(nfl_games_120_df['Game Number']==ga) & (nfl_games_120_df['Hours To Game']==hr) & (nfl_games_120_df['Book Encoded']==sp)]['Home Pointspread odds']\n",
    "            try:\n",
    "                odds = float(odds)\n",
    "                #print(odds)\n",
    "            except:\n",
    "                odds = float('nan')\n",
    "            odds_series.append(odds)\n",
    "        if nfl_games_120_df[(nfl_games_120_df['Game Number']==ga) & (nfl_games_120_df['Book Encoded']==sp)].empty:\n",
    "            #print('its empty!')\n",
    "            continue\n",
    "        else:\n",
    "            odds_series.append(ga)\n",
    "            odds_series.append(sp)\n",
    "            home_pointspread_time_series.append(odds_series)"
   ]
  },
  {
   "cell_type": "code",
   "execution_count": 20,
   "metadata": {},
   "outputs": [
    {
     "name": "stdout",
     "output_type": "stream",
     "text": [
      "(1775, 122)\n"
     ]
    }
   ],
   "source": [
    "home_pointspread_time_series_df = pd.DataFrame(home_pointspread_time_series)\n",
    "print(home_pointspread_time_series_df.shape)\n",
    "export_path = r'C:\\Users\\benny\\OneDrive\\Machine Learning\\ML1030\\Final Project\\Final Project'\n",
    "home_pointspread_time_series_df.to_csv(export_path+\"\\\\home_pointspread_time_series_120_df.csv\")"
   ]
  },
  {
   "cell_type": "code",
   "execution_count": 21,
   "metadata": {},
   "outputs": [],
   "source": [
    "over_odds_time_series = []\n",
    "for ga in game_ids:\n",
    "    for sp in sportsbook_ids: \n",
    "        odds_series = []\n",
    "        for hr in hours_ids:        \n",
    "            odds = nfl_games_120_df[(nfl_games_120_df['Game Number']==ga) & (nfl_games_120_df['Hours To Game']==hr) & (nfl_games_120_df['Book Encoded']==sp)]['Over odds']\n",
    "            try:\n",
    "                odds = float(odds)\n",
    "                #print(odds)\n",
    "            except:\n",
    "                odds = float('nan')\n",
    "            odds_series.append(odds)\n",
    "        if nfl_games_120_df[(nfl_games_120_df['Game Number']==ga) & (nfl_games_120_df['Book Encoded']==sp)].empty:\n",
    "            #print('its empty!')\n",
    "            continue\n",
    "        else:\n",
    "            odds_series.append(ga)\n",
    "            odds_series.append(sp)\n",
    "            over_odds_time_series.append(odds_series)"
   ]
  },
  {
   "cell_type": "code",
   "execution_count": 22,
   "metadata": {},
   "outputs": [
    {
     "name": "stdout",
     "output_type": "stream",
     "text": [
      "(1775, 122)\n"
     ]
    }
   ],
   "source": [
    "over_odds_time_series_df = pd.DataFrame(over_odds_time_series)\n",
    "print(over_odds_time_series_df.shape)\n",
    "export_path = r'C:\\Users\\benny\\OneDrive\\Machine Learning\\ML1030\\Final Project\\Final Project'\n",
    "over_odds_time_series_df.to_csv(export_path+\"\\\\over_odds_time_series_120_df.csv\")"
   ]
  },
  {
   "cell_type": "code",
   "execution_count": 23,
   "metadata": {},
   "outputs": [],
   "source": [
    "under_odds_time_series = []\n",
    "for ga in game_ids:\n",
    "    for sp in sportsbook_ids: \n",
    "        odds_series = []\n",
    "        for hr in hours_ids:        \n",
    "            odds = nfl_games_120_df[(nfl_games_120_df['Game Number']==ga) & (nfl_games_120_df['Hours To Game']==hr) & (nfl_games_120_df['Book Encoded']==sp)]['Under odds']\n",
    "            try:\n",
    "                odds = float(odds)\n",
    "                #print(odds)\n",
    "            except:\n",
    "                odds = float('nan')\n",
    "            odds_series.append(odds)\n",
    "        if nfl_games_120_df[(nfl_games_120_df['Game Number']==ga) & (nfl_games_120_df['Book Encoded']==sp)].empty:\n",
    "            #print('its empty!')\n",
    "            continue\n",
    "        else:\n",
    "            odds_series.append(ga)\n",
    "            odds_series.append(sp)\n",
    "            under_odds_time_series.append(odds_series)"
   ]
  },
  {
   "cell_type": "code",
   "execution_count": 24,
   "metadata": {},
   "outputs": [
    {
     "name": "stdout",
     "output_type": "stream",
     "text": [
      "(1775, 122)\n"
     ]
    }
   ],
   "source": [
    "under_odds_time_series_df = pd.DataFrame(under_odds_time_series)\n",
    "print(under_odds_time_series_df.shape)\n",
    "export_path = r'C:\\Users\\benny\\OneDrive\\Machine Learning\\ML1030\\Final Project\\Final Project'\n",
    "under_odds_time_series_df.to_csv(export_path+\"\\\\under_odds_time_series_120_df.csv\")"
   ]
  },
  {
   "cell_type": "markdown",
   "metadata": {},
   "source": [
    "# Data Imputation to Fill in the Data Gaps"
   ]
  },
  {
   "cell_type": "code",
   "execution_count": 59,
   "metadata": {},
   "outputs": [],
   "source": [
    "home_pointspread_data = pd.read_csv (r'C:\\Users\\benny\\OneDrive\\Machine Learning\\ML1030\\Final Project\\Final Project\\home_pointspread_time_series_120_df.csv')\n",
    "away_pointspread_data = pd.read_csv (r'C:\\Users\\benny\\OneDrive\\Machine Learning\\ML1030\\Final Project\\Final Project\\away_pointspread_time_series_120_df.csv')\n",
    "under_odds_data = pd.read_csv (r'C:\\Users\\benny\\OneDrive\\Machine Learning\\ML1030\\Final Project\\Final Project\\under_odds_time_series_120_df.csv')\n",
    "over_odds_data = pd.read_csv (r'C:\\Users\\benny\\OneDrive\\Machine Learning\\ML1030\\Final Project\\Final Project\\over_odds_time_series_120_df.csv')\n",
    "home_moneyline_data = pd.read_csv (r'C:\\Users\\benny\\OneDrive\\Machine Learning\\ML1030\\Final Project\\Final Project\\home_moneyline_time_series_120_df.csv')\n",
    "away_moneyline_data = pd.read_csv (r'C:\\Users\\benny\\OneDrive\\Machine Learning\\ML1030\\Final Project\\Final Project\\away_moneyline_time_series_120_df.csv')\n",
    "\n",
    "na_num = 50\n",
    "#pointspread_data = home_pointspread_data.append(away_pointspread_data, ignore_index=True)\n",
    "#total_points_data = over_odds_data.append(under_odds_data, ignore_index=True)\n",
    "#moneyline_data = home_moneyline_data.append(away_moneyline_data, ignore_index=True)\n",
    "#moneyline_data = home_moneyline_data\n",
    "#print(len(pointspread_data.index))\n",
    "#print(len(total_points_data.index))\n",
    "#print(len(moneyline_data.index))\n",
    "#pointspread_data.dropna(thresh=na_num,inplace=True)\n",
    "#total_points_data.dropna(thresh=na_num,inplace=True)\n",
    "home_moneyline_data.dropna(thresh=na_num,inplace=True)\n",
    "away_moneyline_data.dropna(thresh=na_num,inplace=True)\n",
    "#print(len(pointspread_data.index))\n",
    "#print(len(total_points_data.index))\n",
    "#print(len(moneyline_data.index))\n"
   ]
  },
  {
   "cell_type": "code",
   "execution_count": 60,
   "metadata": {},
   "outputs": [],
   "source": [
    "#impute missing values \n",
    "#pointspread_data.fillna(method='bfill', inplace=True)\n",
    "#total_points_data.fillna(method='bfill', inplace=True)\n",
    "home_moneyline_data.fillna(method='bfill', inplace=True)\n",
    "away_moneyline_data.fillna(method='bfill', inplace=True)"
   ]
  },
  {
   "cell_type": "code",
   "execution_count": 64,
   "metadata": {},
   "outputs": [],
   "source": [
    "export_path = r'C:\\Users\\benny\\OneDrive\\Machine Learning\\ML1030\\Final Project\\Final Project'\n",
    "#total_points_data.to_csv(export_path+\"\\\\total_points_120.csv\")\n",
    "#pointspread_data.to_csv(export_path+\"\\\\pointspread_120.csv\")\n",
    "home_moneyline_data.to_csv(export_path+\"\\\\home_moneyline_120.csv\")\n",
    "away_moneyline_data.to_csv(export_path+\"\\\\away_moneyline_120.csv\")"
   ]
  },
  {
   "cell_type": "markdown",
   "metadata": {},
   "source": [
    "# Unsupervised Learning Implementation"
   ]
  },
  {
   "cell_type": "code",
   "execution_count": 65,
   "metadata": {},
   "outputs": [],
   "source": [
    "from sklearn.cluster import KMeans\n",
    "from sklearn import metrics\n",
    "from scipy.spatial.distance import cdist\n",
    "import numpy as np\n",
    "import matplotlib.pyplot as plt"
   ]
  },
  {
   "cell_type": "markdown",
   "metadata": {},
   "source": [
    "## Moneyline (Home and Away)"
   ]
  },
  {
   "cell_type": "code",
   "execution_count": 71,
   "metadata": {},
   "outputs": [
    {
     "name": "stdout",
     "output_type": "stream",
     "text": [
      "       0      1      2      3      4      5      6      7      8      9  \\\n",
      "0 -140.0 -140.0 -140.0 -140.0 -140.0 -140.0 -140.0 -140.0 -140.0 -140.0   \n",
      "1 -140.0 -140.0 -140.0 -140.0 -140.0 -140.0 -140.0 -140.0 -140.0 -140.0   \n",
      "2 -140.0 -140.0 -140.0 -140.0 -140.0 -140.0 -140.0 -140.0 -140.0 -140.0   \n",
      "3 -147.0 -147.0 -147.0 -147.0 -147.0 -147.0 -147.0 -147.0 -147.0 -147.0   \n",
      "4 -135.0 -135.0 -135.0 -135.0 -135.0 -135.0 -135.0 -135.0 -135.0 -135.0   \n",
      "\n",
      "   ...      110    111    112    113    114    115    116    117    118    119  \n",
      "0  ...   -114.0 -102.0 -103.0 -116.0  100.0  100.0 -105.0 -105.0  100.0  100.0  \n",
      "1  ...   -119.0 -105.0  100.0 -116.0  100.0  100.0 -105.0 -105.0  100.0  100.0  \n",
      "2  ...   -115.0  100.0  100.0  100.0  100.0  100.0 -105.0 -105.0  100.0  100.0  \n",
      "3  ...   -120.0 -111.0 -111.0 -116.0 -111.0 -111.0 -111.0 -111.0 -116.0 -111.0  \n",
      "4  ...   -114.0 -102.0 -103.0 -116.0 -110.0 -110.0 -110.0 -104.0 -110.0 -105.0  \n",
      "\n",
      "[5 rows x 120 columns]\n",
      "       0      1      2      3      4      5      6      7      8      9  \\\n",
      "0  120.0  120.0  120.0  120.0  120.0  120.0  120.0  120.0  120.0  120.0   \n",
      "1  120.0  120.0  120.0  120.0  120.0  120.0  120.0  120.0  120.0  120.0   \n",
      "2  120.0  120.0  120.0  120.0  120.0  120.0  120.0  120.0  120.0  120.0   \n",
      "3  125.0  125.0  125.0  125.0  125.0  125.0  125.0  125.0  125.0  125.0   \n",
      "4  115.0  115.0  115.0  115.0  115.0  115.0  115.0  115.0  115.0  115.0   \n",
      "\n",
      "   ...      110    111    112    113    114    115    116    117    118    119  \n",
      "0  ...   -106.0 -118.0 -117.0 -104.0 -120.0 -120.0 -115.0 -115.0 -120.0 -120.0  \n",
      "1  ...   -101.0 -115.0 -120.0 -104.0 -120.0 -120.0 -115.0 -115.0 -120.0 -120.0  \n",
      "2  ...   -105.0 -120.0 -120.0 -120.0 -120.0 -120.0 -115.0 -115.0 -120.0 -120.0  \n",
      "3  ...    100.0 -111.0 -111.0 -105.0 -111.0 -111.0 -111.0 -111.0 -105.0 -111.0  \n",
      "4  ...   -106.0 -118.0 -117.0 -104.0 -110.0 -110.0 -110.0 -116.0 -110.0 -115.0  \n",
      "\n",
      "[5 rows x 120 columns]\n"
     ]
    }
   ],
   "source": [
    "home_moneyline_odds_file = r'C:\\Users\\benny\\OneDrive\\Machine Learning\\ML1030\\Final Project\\Final Project\\home_moneyline_120.csv'\n",
    "home_moneyline_odds_time_series_df = pd.read_csv(home_moneyline_odds_file)\n",
    "home_moneyline_odds_clustering = home_moneyline_odds_time_series_df.iloc[:,2:122]\n",
    "print(home_moneyline_odds_clustering.head())\n",
    "#moneyline_odds_clustering = moneyline_odds_clustering.abs()\n",
    "#print(moneyline_odds_clustering.head())\n",
    "away_moneyline_odds_file = r'C:\\Users\\benny\\OneDrive\\Machine Learning\\ML1030\\Final Project\\Final Project\\away_moneyline_120.csv'\n",
    "away_moneyline_odds_time_series_df = pd.read_csv(away_moneyline_odds_file)\n",
    "away_moneyline_odds_clustering = away_moneyline_odds_time_series_df.iloc[:,2:122]\n",
    "print(away_moneyline_odds_clustering.head())"
   ]
  },
  {
   "cell_type": "code",
   "execution_count": 72,
   "metadata": {},
   "outputs": [
    {
     "data": {
      "image/png": "[encoded data removed]",
      "text/plain": [
       "<Figure size 432x288 with 1 Axes>"
      ]
     },
     "metadata": {
      "needs_background": "light"
     },
     "output_type": "display_data"
    },
    {
     "name": "stdout",
     "output_type": "stream",
     "text": [
      "[2522.2799736540637, 1640.52329080904, 1481.7271395199064, 1299.3464337434066, 1172.2117716663545, 1130.6369246021357, 1079.5092216355888, 1026.219052290798, 944.4026454636055, 863.2185214986501]\n"
     ]
    }
   ],
   "source": [
    "# k means determine k\n",
    "distortions = []\n",
    "K = range(1,11)\n",
    "for k in K:\n",
    "    kmeanModel = KMeans(n_clusters=k).fit(home_moneyline_odds_clustering)\n",
    "    kmeanModel.fit(home_moneyline_odds_clustering)\n",
    "    distortions.append(sum(np.min(cdist(home_moneyline_odds_clustering, kmeanModel.cluster_centers_, 'euclidean'), axis=1)) / home_moneyline_odds_clustering.shape[0])\n",
    "# Plot the elbow\n",
    "plt.plot(K, distortions, 'bx-')\n",
    "plt.xlabel('k')\n",
    "plt.ylabel('Euclidean Distance')\n",
    "plt.title('The Elbow Method showing the optimal k (Home Moneyline)')\n",
    "plt.show()\n",
    "\n",
    "print(distortions)"
   ]
  },
  {
   "cell_type": "markdown",
   "metadata": {},
   "source": [
    "## Home Moneyline"
   ]
  },
  {
   "cell_type": "code",
   "execution_count": 87,
   "metadata": {},
   "outputs": [
    {
     "name": "stdout",
     "output_type": "stream",
     "text": [
      "[[ -353.81917808  -353.52328767  -342.          -318.20821918\n",
      "   -363.51780822  -362.24109589  -364.74520548  -364.93972603\n",
      "   -364.49315068  -364.45205479  -363.63013699  -362.83287671\n",
      "   -363.60273973  -363.74794521  -363.69041096  -363.87123288\n",
      "   -362.67945205  -364.75616438  -364.68219178  -370.23013699\n",
      "   -361.9890411   -354.91506849  -355.35342466  -367.64383562\n",
      "   -347.01917808  -348.91506849  -321.33150685  -318.86575342\n",
      "   -360.18356164  -362.65753425  -362.87945205  -343.64657534\n",
      "   -362.          -361.76712329  -361.71232877  -353.38082192\n",
      "   -355.43013699  -354.8739726   -367.6         -367.47671233\n",
      "   -368.13424658  -346.71506849  -368.56164384  -367.6\n",
      "   -351.54246575  -367.24931507  -367.30410959  -367.08767123\n",
      "   -315.4         -336.89315068  -364.03835616  -360.90410959\n",
      "   -384.27123288  -363.72054795  -363.60273973  -363.17260274\n",
      "   -363.04383562  -362.80273973  -362.75890411  -362.78630137\n",
      "   -362.66027397  -362.77808219  -365.75342466  -367.21369863\n",
      "   -367.87671233  -368.19452055  -368.57808219  -368.66575342\n",
      "   -368.80821918  -368.86849315  -359.13424658  -369.6739726\n",
      "   -368.29315068  -368.38630137  -368.52054795  -330.84931507\n",
      "   -369.07123288  -368.71506849  -368.45205479  -368.30958904\n",
      "   -368.24657534  -368.41369863  -368.51506849  -369.06575342\n",
      "   -369.20547945  -369.4         -369.8739726   -369.94520548\n",
      "   -369.85479452  -370.57808219  -370.39178082  -370.06027397\n",
      "   -370.85479452  -372.06575342  -371.71506849  -372.29589041\n",
      "   -370.49863014  -371.35616438  -371.29863014  -371.55342466\n",
      "   -372.08493151  -372.43835616  -371.87945205  -371.9890411\n",
      "   -373.73150685  -375.67945205  -377.09315068  -378.08767123\n",
      "   -374.92328767  -379.6109589   -380.00547945  -380.50410959\n",
      "   -381.09315068  -382.49589041  -386.70958904  -388.90684932\n",
      "   -387.99178082  -386.9369863   -388.38356164  -393.05479452]\n",
      " [  137.50387597   140.35852713   108.85077519   170.74224806\n",
      "    124.22674419   105.62790698   123.43604651   124.90503876\n",
      "    124.9127907    126.62015504   125.81395349   127.53875969\n",
      "    126.9127907    128.00387597   127.98255814   126.57364341\n",
      "    127.77713178   114.84496124   127.13372093   128.35465116\n",
      "    129.14728682   149.24224806   149.23643411   148.91860465\n",
      "    153.58914729   187.12209302   193.63565891   193.33527132\n",
      "    181.44379845   195.09302326   195.0251938    192.55620155\n",
      "    195.16860465   195.02906977   194.80426357   196.19573643\n",
      "    196.59689922   196.59883721   195.4748062    196.22286822\n",
      "    198.10658915   197.18217054   198.60658915   199.5\n",
      "    199.01550388   185.17054264   179.94379845   190.88953488\n",
      "    190.39728682   180.53488372   191.55232558   187.0620155\n",
      "    113.83139535   192.29457364   192.19573643   191.6879845\n",
      "    192.69379845   192.9127907    193.0620155    192.79651163\n",
      "    193.05813953   192.95542636   193.18217054   193.10271318\n",
      "    193.3120155    193.36046512   193.34496124   192.63372093\n",
      "    192.71899225   193.14147287   192.06589147   193.14728682\n",
      "    164.4244186    191.23062016   192.08914729   182.8120155\n",
      "    182.18992248   180.41472868   173.85658915   172.72674419\n",
      "    173.39341085   166.9496124    166.85465116   167.34689922\n",
      "    166.48643411   166.67635659   168.07945736   166.32170543\n",
      "    165.87984496   166.08139535   168.14728682   166.53875969\n",
      "    167.24612403   168.07945736   168.07751938   166.3624031\n",
      "    165.2751938    165.32945736   166.43604651   164.9244186\n",
      "    163.12596899   162.57945736   162.82945736   162.66666667\n",
      "    161.83333333   158.41472868   162.99031008   163.60077519\n",
      "    142.7751938    235.6996124    232.33914729   233.39922481\n",
      "    228.78100775   225.04069767   228.19186047   230.6996124\n",
      "    233.34108527   236.65697674   236.67635659   241.08333333]\n",
      " [ -932.59459459 -1010.97297297 -1010.97297297 -1010.97297297\n",
      "  -1058.89189189 -1059.18918919 -1059.18918919 -1059.18918919\n",
      "  -1060.37837838 -1060.37837838 -1060.37837838 -1060.37837838\n",
      "  -1060.37837838 -1060.48648649 -1060.62162162 -1060.62162162\n",
      "  -1060.62162162 -1060.62162162 -1062.37837838 -1064.13513514\n",
      "  -1065.91891892 -1065.91891892 -1064.97297297 -1072.97297297\n",
      "  -1079.81081081 -1079.81081081 -1079.81081081 -1079.81081081\n",
      "   -974.7027027   -975.37837838  -975.37837838  -975.37837838\n",
      "   -975.37837838  -975.37837838  -975.37837838  -975.37837838\n",
      "   -979.16216216  -890.62162162  -890.62162162  -890.62162162\n",
      "   -890.86486486  -892.21621622  -889.45945946  -928.48648649\n",
      "   -928.21621622  -933.40540541  -921.13513514  -922.54054054\n",
      "   -936.18918919  -486.51351351  -941.32432432  -934.67567568\n",
      "   -944.2972973   -947.          -948.35135135  -948.35135135\n",
      "   -948.35135135  -948.35135135  -961.02702703  -961.02702703\n",
      "   -948.35135135  -948.35135135  -946.59459459  -948.35135135\n",
      "   -946.59459459  -955.62162162  -955.2972973   -955.2972973\n",
      "   -955.2972973   -953.08108108  -951.32432432  -953.08108108\n",
      "   -952.72972973  -954.48648649  -954.48648649  -954.48648649\n",
      "   -954.21621622  -948.81081081  -951.51351351  -951.51351351\n",
      "   -957.45945946  -959.18918919  -955.40540541  -955.40540541\n",
      "   -955.40540541  -955.40540541  -955.13513514  -954.89189189\n",
      "   -954.89189189  -954.89189189  -954.89189189  -956.51351351\n",
      "   -996.08108108  -996.08108108  -999.51351351  -996.59459459\n",
      "   -996.05405405  -993.35135135  -992.         -1016.21621622\n",
      "  -1018.91891892 -1014.97297297 -1014.97297297 -1014.97297297\n",
      "   -989.67567568 -1000.48648649 -1003.45945946 -1008.48648649\n",
      "  -1009.2972973  -1012.40540541 -1023.08108108 -1026.18918919\n",
      "  -1032.89189189 -1047.2972973  -1025.86486486 -1038.94594595\n",
      "  -1062.89189189 -1039.35135135 -1101.75675676 -1096.2972973 ]\n",
      " [ -166.45773525  -167.0015949   -184.54704944  -129.\n",
      "   -186.78787879  -194.53110048  -188.66028708  -190.72567783\n",
      "   -189.55023923  -189.63317384  -189.30940989  -188.49920255\n",
      "   -190.14832536  -190.47527911  -189.23923445  -189.92982456\n",
      "   -189.60606061  -190.18500797  -190.3062201   -190.48963317\n",
      "   -190.5199362   -157.90111643  -163.0015949   -162.75279107\n",
      "   -166.31897927  -135.83572568  -140.88197767  -140.6523126\n",
      "   -156.20414673  -157.23604466  -159.83572568  -158.6969697\n",
      "   -160.58054226  -160.37799043  -160.58851675  -160.94098884\n",
      "   -160.66666667  -161.12121212  -160.61403509  -160.99362041\n",
      "   -160.29346093  -160.61722488  -159.94258373  -160.8245614\n",
      "   -160.43062201  -155.38277512  -158.70334928  -158.26794258\n",
      "   -138.92344498  -149.98883573  -159.87559809  -159.42264753\n",
      "   -186.41307815  -159.80382775  -159.8708134   -162.87240829\n",
      "   -161.81020734  -162.10845295  -162.10526316  -162.80701754\n",
      "   -161.32854864  -161.58692185  -162.1291866   -161.8261563\n",
      "   -161.51674641  -158.99043062  -168.11004785  -171.92982456\n",
      "   -171.38755981  -166.74960128  -165.96172249  -164.20255183\n",
      "   -166.40669856  -165.68740032  -166.80063796  -134.16905901\n",
      "   -165.18500797  -166.18181818  -166.38596491  -165.01913876\n",
      "   -165.19298246  -165.20095694  -165.16427432  -164.79266348\n",
      "   -164.22647528  -164.28229665  -164.00637959  -163.01754386\n",
      "   -162.91706539  -162.73046252  -164.49760766  -162.87240829\n",
      "   -163.11642743  -158.10366826  -156.56140351  -156.24561404\n",
      "   -156.55661882  -156.72408293  -151.75119617  -151.65709729\n",
      "   -151.59170654  -150.8245614   -150.92503987  -149.523126\n",
      "   -149.66985646  -156.18660287  -151.11642743  -151.0861244\n",
      "   -148.93939394  -152.85486443  -151.0861244   -156.62998405\n",
      "   -155.02551834  -155.3907496   -155.09888357  -151.42264753\n",
      "   -152.63795853  -151.11483254  -151.66666667  -148.40510367]\n",
      " [ -285.71604938  -284.80246914  -285.58024691  -285.58024691\n",
      "   -290.49382716  -290.67901235  -290.67901235  -290.91358025\n",
      "   -297.81481481  -298.03703704  -298.40740741  -298.04938272\n",
      "   -298.16049383  -298.09876543  -298.09876543  -298.09876543\n",
      "   -298.34567901  -298.71604938  -298.7037037   -296.2345679\n",
      "   -296.80246914  -296.80246914  -296.56790123  -293.98765432\n",
      "   -282.66666667  -282.66666667  -285.04938272  -284.91358025\n",
      "   -289.34567901  -287.37037037  -287.5308642   -286.67901235\n",
      "   -300.02469136  -300.16049383  -300.03703704  -300.33333333\n",
      "   -300.81481481  -300.81481481  -300.81481481  -300.81481481\n",
      "   -300.81481481  -300.83950617  -300.83950617  -300.81481481\n",
      "   -300.55555556  -294.16049383  -294.17283951  -292.45679012\n",
      "   -289.97530864  -287.38271605  -287.37037037  -287.37037037\n",
      "   -284.77777778  -281.71604938  -280.83950617  -280.7654321\n",
      "   -280.7654321   -278.74074074  -280.96296296  -280.96296296\n",
      "   -280.86419753  -280.86419753  -280.66666667  -280.97530864\n",
      "   -281.5308642   -282.04938272  -279.0617284   -277.43209877\n",
      "   -277.35802469  -280.25925926  -271.55555556  -277.01234568\n",
      "   -276.0617284   -278.43209877  -278.07407407  -256.96296296\n",
      "   -256.01234568  -249.58024691  -155.          -155.\n",
      "   -155.          -155.          -155.          -155.\n",
      "   -155.          -155.          -148.          -140.\n",
      "   -140.          -140.          -140.          -140.\n",
      "   -140.          -145.          -145.          -145.\n",
      "   -145.          -145.          -145.          -145.\n",
      "   -145.          -145.          -145.          -140.\n",
      "   -140.          -140.          -138.          -132.\n",
      "   -132.           755.           725.           755.\n",
      "    664.           664.           711.           711.\n",
      "    711.           755.           755.           770.        ]]\n"
     ]
    }
   ],
   "source": [
    "kmeans = KMeans(n_clusters=5).fit(home_moneyline_odds_clustering)\n",
    "centroids = kmeans.cluster_centers_\n",
    "print(centroids)\n",
    "c= kmeans.labels_.astype(int)"
   ]
  },
  {
   "cell_type": "code",
   "execution_count": 88,
   "metadata": {},
   "outputs": [],
   "source": [
    "c_df = pd.DataFrame(c)\n",
    "home_moneyline_odds_time_series_df['Cluster'] = c_df"
   ]
  },
  {
   "cell_type": "code",
   "execution_count": 89,
   "metadata": {},
   "outputs": [],
   "source": [
    "export_path = r'C:\\Users\\benny\\OneDrive\\Machine Learning\\ML1030\\Final Project\\Final Project'\n",
    "home_moneyline_odds_time_series_df.to_csv(export_path+\"\\\\home_moneyline_cluster_120.csv\")"
   ]
  },
  {
   "cell_type": "code",
   "execution_count": 90,
   "metadata": {},
   "outputs": [],
   "source": [
    "# cluster_0_df = home_moneyline_odds_time_series_df[home_moneyline_odds_time_series_df['Cluster']==0]\n",
    "# plt.figure(1)\n",
    "# cluster_0_df['121'].value_counts().plot('bar')\n",
    "\n",
    "# cluster_1_df = home_moneyline_odds_time_series_df[home_moneyline_odds_time_series_df['Cluster']==1]\n",
    "# plt.figure(2)\n",
    "# cluster_1_df['121'].value_counts().plot('bar')\n",
    "\n",
    "# cluster_2_df = home_moneyline_odds_time_series_df[home_moneyline_odds_time_series_df['Cluster']==2]\n",
    "# plt.figure(3)\n",
    "# cluster_2_df['121'].value_counts().plot('bar')\n",
    "\n",
    "# cluster_3_df = home_moneyline_odds_time_series_df[home_moneyline_odds_time_series_df['Cluster']==3]\n",
    "# plt.figure(4)\n",
    "# cluster_3_df['121'].value_counts().plot('bar')\n",
    "\n",
    "#cluster_4_df = moneyline_odds_time_series_df[moneyline_odds_time_series_df['Cluster']==4]\n",
    "#plt.figure(5)\n",
    "#cluster_4_df['121'].value_counts().plot('bar')\n",
    "\n",
    "#cluster_5_df = moneyline_odds_time_series_df[moneyline_odds_time_series_df['Cluster']==5]\n",
    "#plt.figure(6)\n",
    "#cluster_5_df['121'].value_counts().plot('bar')"
   ]
  },
  {
   "cell_type": "code",
   "execution_count": 91,
   "metadata": {},
   "outputs": [],
   "source": [
    "from sklearn.decomposition import PCA\n",
    "pca = PCA(n_components=2)\n",
    "principalComponents = pca.fit_transform(home_moneyline_odds_clustering)\n",
    "principalDf = pd.DataFrame(data = principalComponents\n",
    "             , columns = ['PC1', 'PC2'])\n"
   ]
  },
  {
   "cell_type": "code",
   "execution_count": 92,
   "metadata": {},
   "outputs": [
    {
     "name": "stdout",
     "output_type": "stream",
     "text": [
      "              PC1          PC2\n",
      "0       53.440830    -3.690724\n",
      "1       36.316375    19.782125\n",
      "2      -42.240933    75.721303\n",
      "3      140.296161   -99.877755\n",
      "4      129.961505  -129.447789\n",
      "5      139.887479  -117.748920\n",
      "6      161.247495  -117.997025\n",
      "7      105.145357  -190.602968\n",
      "8      105.145357  -190.602968\n",
      "9      169.699648  -196.902236\n",
      "10    2271.770985  -267.225501\n",
      "11    2457.618144  -187.243141\n",
      "12    2410.021191  -215.160808\n",
      "13    2406.294151  -321.495171\n",
      "14    2271.770985  -267.225501\n",
      "15    2461.402777  -191.404774\n",
      "16    2450.871023  -290.131451\n",
      "17    2413.549005  -113.749278\n",
      "18    2413.549005  -113.749278\n",
      "19    2326.853389  -212.383010\n",
      "20     247.876616   -32.186092\n",
      "21     244.267739   -84.986664\n",
      "22     205.246356   -61.885692\n",
      "23     264.171742  -102.123030\n",
      "24     268.310824   -60.315584\n",
      "25     265.690774  -113.617503\n",
      "26     293.853948   -79.893691\n",
      "27     258.305639   -80.842955\n",
      "28     258.305639   -80.842955\n",
      "29     251.023689  -107.026177\n",
      "...           ...          ...\n",
      "1596  7235.093149  -239.389864\n",
      "1597  7281.448002  -169.299430\n",
      "1598  7732.475906  -260.167461\n",
      "1599  7732.475906  -260.167461\n",
      "1600  7418.793878   -57.637915\n",
      "1601  5681.813550 -3590.576599\n",
      "1602  5372.089263 -3466.263652\n",
      "1603  4824.482580 -3721.118342\n",
      "1604  4929.554005 -3793.820540\n",
      "1605  5081.391592 -3869.322286\n",
      "1606  5079.694407 -3868.985031\n",
      "1607  3476.991508 -4465.565899\n",
      "1608 -3901.511094  -247.578210\n",
      "1609 -3941.820520  -314.805425\n",
      "1610 -3894.459868  -281.568025\n",
      "1611 -3901.288275  -264.167611\n",
      "1612 -3924.486145  -295.353110\n",
      "1613 -3869.754160  -277.869489\n",
      "1614 -3836.033070  -158.575123\n",
      "1615 -3287.671287   854.849902\n",
      "1616 -2637.663111  1985.095032\n",
      "1617  3625.012947  -230.308968\n",
      "1618  4163.645205  -301.465756\n",
      "1619  3792.081636  -246.233696\n",
      "1620  3610.071568  -215.587962\n",
      "1621  3691.597735  -176.818557\n",
      "1622  3967.436255  -244.123102\n",
      "1623  3984.127462  -199.823193\n",
      "1624  3961.696953  -261.393691\n",
      "1625  3953.638923  -450.811267\n",
      "\n",
      "[1626 rows x 2 columns]\n"
     ]
    }
   ],
   "source": [
    "print(principalDf)"
   ]
  },
  {
   "cell_type": "code",
   "execution_count": 95,
   "metadata": {},
   "outputs": [
    {
     "data": {
      "image/png": "[encoded data removed]",
      "text/plain": [
       "<Figure size 432x288 with 1 Axes>"
      ]
     },
     "metadata": {
      "needs_background": "light"
     },
     "output_type": "display_data"
    }
   ],
   "source": [
    "plt.scatter(principalDf['PC1'], principalDf['PC2'], c= kmeans.labels_.astype(int), s=50, alpha=0.5)\n",
    "plt.title('Home Moneyline Clustering')\n",
    "plt.xlabel('PC1')\n",
    "plt.ylabel('PC2')\n",
    "plt.grid(True)"
   ]
  },
  {
   "cell_type": "markdown",
   "metadata": {},
   "source": [
    "## Away Moneyline"
   ]
  },
  {
   "cell_type": "code",
   "execution_count": 96,
   "metadata": {},
   "outputs": [
    {
     "name": "stdout",
     "output_type": "stream",
     "text": [
      "[[   84.02586207    83.44827586    83.86206897    83.86206897\n",
      "     90.68103448    90.62068966    90.39655172    98.67241379\n",
      "     98.87931034    98.6637931     99.18103448    94.24137931\n",
      "     94.28448276    94.24137931    93.63793103    93.62931034\n",
      "     93.84482759    94.01724138    93.73275862    93.81896552\n",
      "     94.02586207    93.81034483    93.48275862    92.46551724\n",
      "     82.24137931    82.06896552    81.75862069    81.76724138\n",
      "     88.62931034    87.74137931    87.74137931    92.35344828\n",
      "     99.20689655    99.19827586    99.54310345    94.62931034\n",
      "     94.85344828    94.85344828    94.37931034    94.37931034\n",
      "     94.37931034    94.4137931     94.4137931     94.50862069\n",
      "     95.22413793    92.05172414    91.73275862    90.95689655\n",
      "     90.94827586    91.53448276    91.1637931     91.28448276\n",
      "     90.62068966    91.62931034    90.72413793    90.76724138\n",
      "     89.53448276    87.44827586    88.21551724    88.21551724\n",
      "     87.80172414    87.80172414    87.75862069    87.9137931\n",
      "     88.0862069     88.39655172    88.5862069     88.12068966\n",
      "     87.71551724    87.88793103    85.29310345    94.12068966\n",
      "     93.81034483    95.72413793    95.43965517   121.81896552\n",
      "    120.77586207   120.04310345   105.00862069   105.00862069\n",
      "    105.00862069   135.           135.           135.\n",
      "    135.           135.           128.           120.\n",
      "    120.           120.           120.           120.\n",
      "    120.           125.           125.           125.\n",
      "    125.           125.           125.           125.\n",
      "    125.           125.           125.           120.\n",
      "    120.           120.           118.           112.\n",
      "    112.         -1200.         -1300.         -1200.\n",
      "  -1000.         -1000.         -1100.         -1100.\n",
      "  -1100.         -1200.         -1200.         -1235.        ]\n",
      " [  172.98339719   169.91570881   182.30906769   142.59131545\n",
      "    178.15453384   179.60153257   182.47254151   182.69604087\n",
      "    181.75095785   181.8633461    181.38186462   179.348659\n",
      "    181.86845466   182.72158365   180.6155811    182.44316731\n",
      "    181.89016603   182.66538953   182.92592593   183.87484036\n",
      "    182.03448276   164.88505747   169.39591315   169.56194125\n",
      "    172.54661558   153.59131545   157.59003831   156.51085568\n",
      "    170.40740741   171.13793103   173.33971903   167.71775223\n",
      "    172.94508301   172.79310345   172.43550447   173.55810983\n",
      "    173.47254151   173.70881226   175.09067688   174.81864623\n",
      "    174.26309068   174.11366539   174.14814815   174.8633461\n",
      "    174.79438059   170.71392082   173.66411239   174.93231162\n",
      "    145.75351213   161.79821201   174.77011494   173.30523627\n",
      "    196.56704981   174.37675607   174.100894     174.14687101\n",
      "    173.32439336   173.52873563   173.4789272    174.03192848\n",
      "    173.20945083   173.60664112   174.03320562   173.87484036\n",
      "    173.64112388   171.72030651   178.58109834   181.02681992\n",
      "    180.27713921   176.30906769   176.26181354   175.73180077\n",
      "    174.84163474   173.44699872   171.77777778   151.60536398\n",
      "    171.26692209   171.23754789   171.25925926   168.56832695\n",
      "    168.78288633   168.84163474   168.83141762   169.21455939\n",
      "    168.80715198   168.86079183   168.33971903   167.94252874\n",
      "    167.84546616   165.10983397   166.40996169   166.0293742\n",
      "    166.43167305   162.1890166    160.88633461   163.11494253\n",
      "    162.18773946   163.06896552   161.63984674   161.7394636\n",
      "    163.60536398   163.70881226   163.37037037   162.61174968\n",
      "    161.95019157   164.55810983   161.95785441   161.08301405\n",
      "    158.98467433   163.65261814   162.62324393   163.16730524\n",
      "    162.49425287   163.29501916   164.80204342   163.58365262\n",
      "    163.69476373   160.74074074   158.75223499   159.77905492]\n",
      " [ -519.09411765  -520.16470588  -480.01176471  -515.31764706\n",
      "   -538.72941176  -524.92941176  -525.89411765  -540.16470588\n",
      "   -546.8         -549.31764706  -549.38823529  -549.27058824\n",
      "   -549.41176471  -549.29411765  -548.35294118  -548.35294118\n",
      "   -548.35294118  -548.48235294  -548.70588235  -548.11764706\n",
      "   -548.23529412  -547.97647059  -546.97647059  -547.04705882\n",
      "   -549.64705882  -547.70588235  -546.56470588  -547.34117647\n",
      "   -540.17647059  -539.96470588  -540.43529412  -540.76470588\n",
      "   -548.14117647  -549.65882353  -549.65882353  -549.37647059\n",
      "   -548.96470588  -549.02352941  -542.82352941  -546.2\n",
      "   -547.14117647  -547.37647059  -547.58823529  -547.68235294\n",
      "   -545.48235294  -543.97647059  -431.22352941  -432.97647059\n",
      "   -419.41176471  -430.70588235  -437.35294118  -438.71764706\n",
      "   -214.70588235  -437.07058824  -436.17647059  -432.28235294\n",
      "   -438.89411765  -439.36470588  -439.65882353  -438.89411765\n",
      "   -440.48235294  -441.48235294  -441.48235294  -440.48235294\n",
      "   -440.92941176  -441.49411765  -441.78823529  -439.96470588\n",
      "   -442.45882353  -440.56470588  -441.95294118  -434.88235294\n",
      "   -435.37647059  -435.64705882  -434.78823529  -433.67058824\n",
      "   -427.08235294  -427.14117647  -426.97647059  -427.04705882\n",
      "   -427.76470588  -428.23529412  -428.41176471  -428.41176471\n",
      "   -428.41176471  -428.23529412  -428.87058824  -422.76470588\n",
      "   -422.24705882  -427.98823529  -425.          -425.47058824\n",
      "   -425.89411765  -425.34117647  -424.56470588  -424.91764706\n",
      "   -424.91764706  -424.94117647  -424.70588235  -422.48235294\n",
      "   -416.55294118  -415.8         -416.11764706  -431.52941176\n",
      "   -431.09411765  -431.68235294  -433.08235294  -434.95294118\n",
      "   -285.85882353  -543.41176471  -545.57647059  -529.05882353\n",
      "   -537.17647059  -536.54117647  -539.45882353  -544.75294118\n",
      "   -544.55294118  -546.95294118  -552.72941176  -555.11764706]\n",
      " [ -110.4806867   -117.46781116   -77.08154506  -159.48283262\n",
      "    -83.33690987   -54.72103004   -85.24034335   -84.71459227\n",
      "    -83.06866953   -84.5751073    -83.95493562   -84.76824034\n",
      "    -84.14377682   -85.30042918   -85.33476395   -84.64806867\n",
      "    -85.88626609   -71.01072961   -85.08583691   -85.69527897\n",
      "    -86.42703863  -106.18025751  -106.31330472  -105.86051502\n",
      "   -111.27682403  -158.75965665  -162.80042918  -162.32832618\n",
      "   -158.91201717  -172.8111588   -171.8583691   -170.79828326\n",
      "   -171.03218884  -171.27896996  -171.18454936  -171.76180258\n",
      "   -172.00858369  -172.11373391  -173.27253219  -171.82618026\n",
      "   -173.86909871  -172.82403433  -174.45708155  -174.60515021\n",
      "   -174.16523605  -160.87553648  -171.          -184.58369099\n",
      "   -187.91630901  -174.17811159  -186.18454936  -181.40772532\n",
      "   -153.93991416  -186.27467811  -187.61373391  -186.89270386\n",
      "   -187.3304721   -187.37982833  -187.48497854  -187.46351931\n",
      "   -187.43562232  -187.46137339  -187.70386266  -187.36480687\n",
      "   -187.80042918  -187.99141631  -187.97854077  -187.6888412\n",
      "   -186.88197425  -189.15879828  -187.48712446  -191.29399142\n",
      "   -155.94206009  -185.5         -186.96351931  -190.07081545\n",
      "   -189.472103    -188.17811159  -187.87553648  -187.90343348\n",
      "   -187.32403433  -187.5944206   -187.37553648  -187.60300429\n",
      "   -186.45493562  -186.82832618  -187.51502146  -186.68454936\n",
      "   -184.52145923  -183.16094421  -186.1888412   -183.36695279\n",
      "   -183.77038627  -185.3776824   -185.53004292  -186.24892704\n",
      "   -183.22103004  -182.00643777  -181.88412017  -182.79828326\n",
      "   -182.8776824   -182.21244635  -183.02575107  -176.57725322\n",
      "   -176.027897    -168.83690987  -178.71244635  -180.33261803\n",
      "   -180.43776824  -180.20386266  -177.68669528  -174.21030043\n",
      "   -174.54077253  -174.01287554  -173.25321888  -175.38626609\n",
      "   -177.09656652  -181.90343348  -181.24034335  -181.67167382]\n",
      " [  365.83333333   374.44252874   389.64942529   308.41954023\n",
      "    389.47701149   392.49425287   393.9137931    395.53448276\n",
      "    396.02873563   395.82758621   395.51724138   392.08045977\n",
      "    395.67816092   396.0862069    395.81034483   395.94827586\n",
      "    393.09770115   397.18390805   396.06321839   405.43103448\n",
      "    400.72988506   388.68390805   389.26436782   408.58045977\n",
      "    371.81034483   372.02298851   344.29885057   344.29885057\n",
      "    411.43678161   415.15517241   415.15517241   403.85632184\n",
      "    414.66666667   414.66666667   414.6091954    401.33333333\n",
      "    405.61494253   392.68390805   406.43103448   406.17241379\n",
      "    407.51149425   370.18965517   409.8045977    415.04597701\n",
      "    386.26436782   415.94252874   414.95977011   415.2816092\n",
      "    376.25287356   316.56896552   412.6954023    409.70114943\n",
      "    412.56321839   413.1954023    413.39655172   412.74137931\n",
      "    412.79885057   412.25287356   412.37931034   412.24137931\n",
      "    412.06896552   411.93103448   415.3908046    418.26436782\n",
      "    419.27011494   420.41954023   421.13793103   421.15517241\n",
      "    421.27011494   421.12643678   407.04022989   421.42528736\n",
      "    418.28735632   418.20114943   420.74712644   352.67816092\n",
      "    420.58045977   420.04597701   420.17241379   420.91954023\n",
      "    421.57471264   421.86206897   421.74712644   421.70114943\n",
      "    421.77586207   422.12068966   421.98850575   421.52298851\n",
      "    421.37356322   421.60344828   421.45402299   422.21264368\n",
      "    426.62068966   428.08045977   427.55172414   427.28735632\n",
      "    426.46551724   425.1954023    424.13793103   426.57471264\n",
      "    427.2183908    426.07471264   426.02298851   424.98275862\n",
      "    424.38505747   428.43103448   429.55172414   431.24137931\n",
      "    431.33908046   433.06321839   434.92528736   436.0862069\n",
      "    437.17816092   438.94252874   440.94827586   444.72988506\n",
      "    445.48850575   442.14942529   449.06321839   454.        ]]\n"
     ]
    }
   ],
   "source": [
    "kmeans = KMeans(n_clusters=5).fit(away_moneyline_odds_clustering)\n",
    "centroids = kmeans.cluster_centers_\n",
    "print(centroids)\n",
    "c= kmeans.labels_.astype(int)"
   ]
  },
  {
   "cell_type": "code",
   "execution_count": 97,
   "metadata": {},
   "outputs": [],
   "source": [
    "c_df = pd.DataFrame(c)\n",
    "away_moneyline_odds_time_series_df['Cluster'] = c_df"
   ]
  },
  {
   "cell_type": "code",
   "execution_count": 98,
   "metadata": {},
   "outputs": [],
   "source": [
    "export_path = r'C:\\Users\\benny\\OneDrive\\Machine Learning\\ML1030\\Final Project\\Final Project'\n",
    "away_moneyline_odds_time_series_df.to_csv(export_path+\"\\\\away_moneyline_cluster_120.csv\")"
   ]
  },
  {
   "cell_type": "code",
   "execution_count": 99,
   "metadata": {},
   "outputs": [],
   "source": [
    "# cluster_0_df = away_moneyline_odds_time_series_df[away_moneyline_odds_time_series_df['Cluster']==0]\n",
    "# plt.figure(1)\n",
    "# cluster_0_df['121'].value_counts().plot('bar')\n",
    "\n",
    "# cluster_1_df = away_moneyline_odds_time_series_df[away_moneyline_odds_time_series_df['Cluster']==1]\n",
    "# plt.figure(2)\n",
    "# cluster_1_df['121'].value_counts().plot('bar')\n",
    "\n",
    "# cluster_2_df = away_moneyline_odds_time_series_df[away_moneyline_odds_time_series_df['Cluster']==2]\n",
    "# plt.figure(3)\n",
    "# cluster_2_df['121'].value_counts().plot('bar')\n",
    "\n",
    "# cluster_3_df = away_moneyline_odds_time_series_df[away_moneyline_odds_time_series_df['Cluster']==3]\n",
    "# plt.figure(4)\n",
    "# cluster_3_df['121'].value_counts().plot('bar')"
   ]
  },
  {
   "cell_type": "code",
   "execution_count": 100,
   "metadata": {},
   "outputs": [],
   "source": [
    "from sklearn.decomposition import PCA\n",
    "pca = PCA(n_components=2)\n",
    "principalComponents = pca.fit_transform(away_moneyline_odds_clustering)\n",
    "principalDf = pd.DataFrame(data = principalComponents\n",
    "             , columns = ['PC1', 'PC2'])"
   ]
  },
  {
   "cell_type": "code",
   "execution_count": 101,
   "metadata": {},
   "outputs": [
    {
     "data": {
      "image/png": "[encoded data removed]",
      "text/plain": [
       "<Figure size 432x288 with 1 Axes>"
      ]
     },
     "metadata": {
      "needs_background": "light"
     },
     "output_type": "display_data"
    }
   ],
   "source": [
    "plt.scatter(principalDf['PC1'], principalDf['PC2'], c= kmeans.labels_.astype(int), s=50, alpha=0.5)\n",
    "plt.title('Away Moneyline Clustering')\n",
    "plt.xlabel('PC1')\n",
    "plt.ylabel('PC2')\n",
    "plt.grid(True)"
   ]
  }
 ],
 "metadata": {
  "kernelspec": {
   "display_name": "Python 3",
   "language": "python",
   "name": "python3"
  },
  "language_info": {
   "codemirror_mode": {
    "name": "ipython",
    "version": 3
   },
   "file_extension": ".py",
   "mimetype": "text/x-python",
   "name": "python",
   "nbconvert_exporter": "python",
   "pygments_lexer": "ipython3",
   "version": "3.6.8"
  }
 },
 "nbformat": 4,
 "nbformat_minor": 2
}
